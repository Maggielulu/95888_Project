{
 "cells": [
  {
   "cell_type": "markdown",
   "metadata": {},
   "source": [
    "# Allrecipes.com Cocktail Recipe Scraping"
   ]
  },
  {
   "cell_type": "markdown",
   "metadata": {},
   "source": [
    "-  Reference: \n",
    "    -  https://nycdatascience.com/blog/student-works/recipes-scraping-top-20-recipes-allrecipes/\n",
    "-  Selenium is used because the webpages utilize AJAX, combined with beautifulsoup the speed of scraping seems to be improved "
   ]
  },
  {
   "cell_type": "markdown",
   "metadata": {},
   "source": [
    "## Import packages and define functions"
   ]
  },
  {
   "cell_type": "code",
   "execution_count": 1,
   "metadata": {},
   "outputs": [],
   "source": [
    "import os\n",
    "import sys\n",
    "import bs4\n",
    "import requests\n",
    "import time\n",
    "import numpy as np\n",
    "import pandas as pd\n",
    "from bs4 import BeautifulSoup as bs\n",
    "from selenium import webdriver\n",
    "from selenium import webdriver\n",
    "from selenium.webdriver.common.keys import Keys\n",
    "from selenium.webdriver.common.by import By\n",
    "from selenium.webdriver.support.ui import WebDriverWait\n",
    "from selenium.webdriver.support import expected_conditions as EC\n",
    "from selenium.common.exceptions import TimeoutException\n",
    "from selenium.webdriver.chrome.options import Options\n",
    "\n",
    "######### see Lab3 ###############\n",
    "def get_text_from_elements(elements):\n",
    "    \"\"\"Uses list comprehension to parse out the cleaned text strings from a list of\n",
    "    elements returned from a BeautifulSoup selection.\n",
    "\n",
    "    Arguments:\n",
    "        elements {list} -- list of elements returned from a BeautifulSoup selection\n",
    "\n",
    "    Returns:\n",
    "        list -- list of cleaned text contained within the element list\n",
    "    \"\"\"\n",
    "    return [e.text.strip() for e in elements]\n"
   ]
  },
  {
   "cell_type": "markdown",
   "metadata": {},
   "source": [
    "## Choosing cocktails with different base liquors"
   ]
  },
  {
   "cell_type": "code",
   "execution_count": 2,
   "metadata": {},
   "outputs": [],
   "source": [
    "# get the URL for different categories of drinks, no other way than just to explore the website\n",
    "rumURL = \"https://www.allrecipes.com/recipes/1741/drinks/cocktails/rum-drinks/\"\n",
    "ginURL = \"https://www.allrecipes.com/recipes/1739/drinks/cocktails/gin-drinks/\"\n",
    "bourbonURL = \"https://www.allrecipes.com/recipes/16957/drinks/cocktails/bourbon-drinks/\"\n",
    "champURL = \"https://www.allrecipes.com/recipes/14975/drinks/cocktails/champagne-drinks/\"\n",
    "blendedURL = \"https://www.allrecipes.com/recipes/17651/drinks/cocktails/blended-cocktails/\"\n",
    "tequilaURL = \"https://www.allrecipes.com/recipes/1742/drinks/cocktails/tequila-drinks/\"\n",
    "vodkaURL = \"https://www.allrecipes.com/recipes/1743/drinks/cocktails/vodka-drinks/\"\n",
    "whiskeyURL = \"https://www.allrecipes.com/recipes/1744/drinks/cocktails/whiskey-drinks/\"\n",
    "\n",
    "baseURL = (rumURL, ginURL, bourbonURL, champURL, blendedURL, tequilaURL, vodkaURL, whiskeyURL)\n",
    "\n",
    "#print(baseURL)\n"
   ]
  },
  {
   "cell_type": "markdown",
   "metadata": {},
   "source": [
    "## Storing all recipeID into a list for scraping"
   ]
  },
  {
   "cell_type": "code",
   "execution_count": 3,
   "metadata": {
    "scrolled": false
   },
   "outputs": [],
   "source": [
    "# grab all the recipe IDs from the list of URLs\n",
    "recipeID = list()\n",
    "browser = webdriver.Chrome()\n",
    "for url in baseURL:\n",
    "    browser.get(url)\n",
    "    #data = r.text\n",
    "    time.sleep(5)\n",
    "    soup = bs(browser.page_source, 'html.parser')\n",
    "    elements = soup.select('article.fixed-recipe-card > a')\n",
    "    for e in elements:\n",
    "        drink_id = e.get(\"data-id\")\n",
    "    #ls = [e.get_attribute('data-id') for e in browser.find_elements_by_class_name('favorite')]\n",
    "    #print([e.get_attribute('data-id') for e in browser.find_elements_by_class_name('favorite')])\n",
    "    #print(browser.find_elements_by_css_selector('ar-save-item.favorite'))\n",
    "        recipeID.append(drink_id)\n",
    "    \n",
    "#print(len(recipeID))\n"
   ]
  },
  {
   "cell_type": "markdown",
   "metadata": {},
   "source": [
    "## Web Scraping individual webpages for Cocktail recipes"
   ]
  },
  {
   "cell_type": "code",
   "execution_count": 4,
   "metadata": {
    "scrolled": true
   },
   "outputs": [],
   "source": [
    "#Disabling JavaScript loading to speed up the process\n",
    "chrome_options = Options()\n",
    "chrome_options.add_experimental_option( \"prefs\",{'profile.managed_default_content_settings.javascript': 2})\n",
    "browser = webdriver.Chrome('chromedriver',chrome_options=chrome_options)\n",
    "\n",
    "dict = {}\n",
    "for drink_id in recipeID:\n",
    "    #print(drink_id)\n",
    "    url = \"https://www.allrecipes.com/recipe/\"+ drink_id\n",
    "    browser.get(url)\n",
    "    time.sleep(5)\n",
    "    soup = bs(browser.page_source, 'html.parser')\n",
    "    name = get_text_from_elements(soup.select(\"h1.recipe-summary__h1\"))\n",
    "    if len(name) >= 0:\n",
    "        #print(str(name))\n",
    "        #elements = soup.select(\"section.recipe-summary > h1\")\n",
    "        ingre = soup.select(\"span.recipe-ingred_txt.added\")\n",
    "        ls=get_text_from_elements(ingre)\n",
    "        if len(ls) >= 2:\n",
    "            ls.pop()\n",
    "            ls.pop()\n",
    "            #print(ls)\n",
    "            dict[str(name)]=ls\n",
    "#print(dict)"
   ]
  },
  {
   "cell_type": "markdown",
   "metadata": {},
   "source": [
    "##  Save to an intermediary .csv file for cleaning"
   ]
  },
  {
   "cell_type": "code",
   "execution_count": 6,
   "metadata": {},
   "outputs": [],
   "source": [
    "#print(len(dict))\n",
    "# Now, put them in a csv file and clean it later\n",
    "df = pd.DataFrame.from_dict(dict, orient=\"index\")\n",
    "df.to_csv(\"allrecipes_raw.csv\")\n",
    "\n",
    "writer = pd.ExcelWriter('Workbook_Prototype.xlsx', engine='xlsxwriter')\n",
    "df = pd.read_csv('allrecipes_raw.csv')\n",
    "df.to_excel(writer, sheet_name='allrecipes_raw')\n",
    "writer.save()\n"
   ]
  },
  {
   "cell_type": "code",
   "execution_count": null,
   "metadata": {},
   "outputs": [],
   "source": []
  }
 ],
 "metadata": {
  "kernelspec": {
   "display_name": "Python 3",
   "language": "python",
   "name": "python3"
  },
  "language_info": {
   "codemirror_mode": {
    "name": "ipython",
    "version": 3
   },
   "file_extension": ".py",
   "mimetype": "text/x-python",
   "name": "python",
   "nbconvert_exporter": "python",
   "pygments_lexer": "ipython3",
   "version": "3.6.4"
  }
 },
 "nbformat": 4,
 "nbformat_minor": 2
}
