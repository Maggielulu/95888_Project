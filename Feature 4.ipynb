{
 "cells": [
  {
   "cell_type": "markdown",
   "metadata": {},
   "source": [
    "# Feature 4: Recommending Measurements Based on Ingredients"
   ]
  },
  {
   "cell_type": "markdown",
   "metadata": {},
   "source": [
    "- Goal: Given a list of ingredients, this feature generates a recommended measurements for each of the ingredients"
   ]
  },
  {
   "cell_type": "markdown",
   "metadata": {},
   "source": [
    "## Come up with a list of units we need to normalize"
   ]
  },
  {
   "cell_type": "code",
   "execution_count": 22,
   "metadata": {},
   "outputs": [],
   "source": [
    "import math\n",
    "from os import path\n",
    "import csv\n",
    "import numpy as np\n",
    "import pandas as pd\n",
    "import collections"
   ]
  },
  {
   "cell_type": "code",
   "execution_count": 23,
   "metadata": {},
   "outputs": [],
   "source": [
    "# Prep Work: filling out all the nan\n",
    "# Read workbook\n",
    "xls = pd.ExcelFile('Workbook.xlsx')\n",
    "df1 = pd.read_excel(xls, 'merged')\n",
    "ingredient_list = df1['ingredient'].tolist()\n",
    "\n",
    "df_filled = df1.fillna(0,limit = 10000)"
   ]
  },
  {
   "cell_type": "code",
   "execution_count": 24,
   "metadata": {},
   "outputs": [],
   "source": [
    "#Do Not Run -- Helper Functions:\n",
    "##unitGroup = groupWords(df_filled['unit'].tolist(),60)\n",
    "##units = []\n",
    "##for u in unitGroup:\n",
    "##    if str(u[0]) != 'nan':\n",
    "##        units.append(min(u, key=len))\n",
    "##print(units)\n",
    "#normalize the values\n",
    "##df = pd.DataFrame(units)\n",
    "##df.to_csv(\"unit_reference.csv\")"
   ]
  },
  {
   "cell_type": "code",
   "execution_count": 25,
   "metadata": {},
   "outputs": [],
   "source": [
    "#Using the list created above, I created a dictionary of normalized values according to ounces\n",
    "unit_csv = pd.read_csv('unit_dict.csv', index_col=0)\n",
    "unit_dict = unit_csv.to_dict(\"split\")\n",
    "unit_dict = dict([(u, m[0]) for (u,m) in zip(unit_dict[\"index\"], unit_dict[\"data\"])])\n",
    "#print(unit_dict)"
   ]
  },
  {
   "cell_type": "markdown",
   "metadata": {},
   "source": [
    "## Quantify measurements and units based on a dictionary"
   ]
  },
  {
   "cell_type": "code",
   "execution_count": 26,
   "metadata": {},
   "outputs": [],
   "source": [
    "# Now finally I can capture and quantify different measurements\n",
    "#print(df1)\n",
    "units = df_filled['unit'].tolist()\n",
    "#units = units.fillna(0,limit = 10000)\n",
    "unit_set = list(unit_dict.keys())\n",
    "#print(units)\n",
    "final_list = []\n",
    "for u in units:\n",
    "    #for k in unit_set:\n",
    "    if u in unit_set:\n",
    "        final_list.append(unit_dict[u])\n",
    "    else:\n",
    "        final_list.append(1)\n",
    "   \n",
    "numbers = []\n",
    "measurements = df_filled['measurement'].tolist()\n",
    "multiplied = [f * m for (f, m) in zip(final_list, measurements)]"
   ]
  },
  {
   "cell_type": "markdown",
   "metadata": {},
   "source": [
    "## Given a list of ingredients, return recommended measurements"
   ]
  },
  {
   "cell_type": "code",
   "execution_count": 27,
   "metadata": {},
   "outputs": [],
   "source": [
    "# the function where the magic happens\n",
    "def makeDrink(measure,ingredient,example_list):\n",
    "#unit = df_filled['unit'].tolist()\n",
    "    result = dict()\n",
    "    for e in example_list:\n",
    "        indice = 0;\n",
    "        result[e] = []\n",
    "        for i in ingredient:\n",
    "            if (e in str(i)) and(indice < len(measure)):\n",
    "                #print(measure[indice])\n",
    "                result[e].append(multiplied[indice])\n",
    "            indice = indice + 1\n",
    "    outcome = pd.DataFrame(columns=[\"ingredients\", \"measurement(in oz or unit)\"])\n",
    "\n",
    "    for k in list(result.keys()):\n",
    "        if sum([1 for x in result[k] if x > 0]) != 0:\n",
    "            m = sum(result[k])/sum([1 for x in result[k] if x > 0])\n",
    "            #portion control\n",
    "            if m > 5:\n",
    "                m = 5\n",
    "        else: \n",
    "            m = 1\n",
    "        outcome.loc[len(outcome)] = [k,str(round(m))+'']\n",
    "        \n",
    "    return outcome"
   ]
  },
  {
   "cell_type": "code",
   "execution_count": 28,
   "metadata": {},
   "outputs": [
    {
     "data": {
      "text/html": [
       "<div>\n",
       "<style scoped>\n",
       "    .dataframe tbody tr th:only-of-type {\n",
       "        vertical-align: middle;\n",
       "    }\n",
       "\n",
       "    .dataframe tbody tr th {\n",
       "        vertical-align: top;\n",
       "    }\n",
       "\n",
       "    .dataframe thead th {\n",
       "        text-align: right;\n",
       "    }\n",
       "</style>\n",
       "<table border=\"1\" class=\"dataframe\">\n",
       "  <thead>\n",
       "    <tr style=\"text-align: right;\">\n",
       "      <th></th>\n",
       "      <th>ingredients</th>\n",
       "      <th>measurement(in oz or unit)</th>\n",
       "    </tr>\n",
       "  </thead>\n",
       "  <tbody>\n",
       "    <tr>\n",
       "      <th>0</th>\n",
       "      <td>lemon juice</td>\n",
       "      <td>3</td>\n",
       "    </tr>\n",
       "    <tr>\n",
       "      <th>1</th>\n",
       "      <td>soda</td>\n",
       "      <td>5</td>\n",
       "    </tr>\n",
       "    <tr>\n",
       "      <th>2</th>\n",
       "      <td>orange juice</td>\n",
       "      <td>4</td>\n",
       "    </tr>\n",
       "    <tr>\n",
       "      <th>3</th>\n",
       "      <td>tequila</td>\n",
       "      <td>4</td>\n",
       "    </tr>\n",
       "  </tbody>\n",
       "</table>\n",
       "</div>"
      ],
      "text/plain": [
       "    ingredients measurement(in oz or unit)\n",
       "0   lemon juice                          3\n",
       "1          soda                          5\n",
       "2  orange juice                          4\n",
       "3       tequila                          4"
      ]
     },
     "metadata": {},
     "output_type": "display_data"
    },
    {
     "data": {
      "text/html": [
       "<div>\n",
       "<style scoped>\n",
       "    .dataframe tbody tr th:only-of-type {\n",
       "        vertical-align: middle;\n",
       "    }\n",
       "\n",
       "    .dataframe tbody tr th {\n",
       "        vertical-align: top;\n",
       "    }\n",
       "\n",
       "    .dataframe thead th {\n",
       "        text-align: right;\n",
       "    }\n",
       "</style>\n",
       "<table border=\"1\" class=\"dataframe\">\n",
       "  <thead>\n",
       "    <tr style=\"text-align: right;\">\n",
       "      <th></th>\n",
       "      <th>ingredients</th>\n",
       "      <th>measurement(in oz or unit)</th>\n",
       "    </tr>\n",
       "  </thead>\n",
       "  <tbody>\n",
       "    <tr>\n",
       "      <th>0</th>\n",
       "      <td>coconut rum</td>\n",
       "      <td>2</td>\n",
       "    </tr>\n",
       "    <tr>\n",
       "      <th>1</th>\n",
       "      <td>cream</td>\n",
       "      <td>3</td>\n",
       "    </tr>\n",
       "    <tr>\n",
       "      <th>2</th>\n",
       "      <td>rum</td>\n",
       "      <td>5</td>\n",
       "    </tr>\n",
       "    <tr>\n",
       "      <th>3</th>\n",
       "      <td>cherry</td>\n",
       "      <td>1</td>\n",
       "    </tr>\n",
       "    <tr>\n",
       "      <th>4</th>\n",
       "      <td>pineapple juice</td>\n",
       "      <td>5</td>\n",
       "    </tr>\n",
       "    <tr>\n",
       "      <th>5</th>\n",
       "      <td>ice</td>\n",
       "      <td>4</td>\n",
       "    </tr>\n",
       "  </tbody>\n",
       "</table>\n",
       "</div>"
      ],
      "text/plain": [
       "       ingredients measurement(in oz or unit)\n",
       "0      coconut rum                          2\n",
       "1            cream                          3\n",
       "2              rum                          5\n",
       "3           cherry                          1\n",
       "4  pineapple juice                          5\n",
       "5              ice                          4"
      ]
     },
     "metadata": {},
     "output_type": "display_data"
    },
    {
     "data": {
      "text/html": [
       "<div>\n",
       "<style scoped>\n",
       "    .dataframe tbody tr th:only-of-type {\n",
       "        vertical-align: middle;\n",
       "    }\n",
       "\n",
       "    .dataframe tbody tr th {\n",
       "        vertical-align: top;\n",
       "    }\n",
       "\n",
       "    .dataframe thead th {\n",
       "        text-align: right;\n",
       "    }\n",
       "</style>\n",
       "<table border=\"1\" class=\"dataframe\">\n",
       "  <thead>\n",
       "    <tr style=\"text-align: right;\">\n",
       "      <th></th>\n",
       "      <th>ingredients</th>\n",
       "      <th>measurement(in oz or unit)</th>\n",
       "    </tr>\n",
       "  </thead>\n",
       "  <tbody>\n",
       "    <tr>\n",
       "      <th>0</th>\n",
       "      <td>light rum</td>\n",
       "      <td>3</td>\n",
       "    </tr>\n",
       "    <tr>\n",
       "      <th>1</th>\n",
       "      <td>salt</td>\n",
       "      <td>1</td>\n",
       "    </tr>\n",
       "    <tr>\n",
       "      <th>2</th>\n",
       "      <td>triple sec</td>\n",
       "      <td>2</td>\n",
       "    </tr>\n",
       "    <tr>\n",
       "      <th>3</th>\n",
       "      <td>cinnamon</td>\n",
       "      <td>2</td>\n",
       "    </tr>\n",
       "    <tr>\n",
       "      <th>4</th>\n",
       "      <td>lemon juice</td>\n",
       "      <td>3</td>\n",
       "    </tr>\n",
       "  </tbody>\n",
       "</table>\n",
       "</div>"
      ],
      "text/plain": [
       "   ingredients measurement(in oz or unit)\n",
       "0    light rum                          3\n",
       "1         salt                          1\n",
       "2   triple sec                          2\n",
       "3     cinnamon                          2\n",
       "4  lemon juice                          3"
      ]
     },
     "metadata": {},
     "output_type": "display_data"
    },
    {
     "data": {
      "text/html": [
       "<div>\n",
       "<style scoped>\n",
       "    .dataframe tbody tr th:only-of-type {\n",
       "        vertical-align: middle;\n",
       "    }\n",
       "\n",
       "    .dataframe tbody tr th {\n",
       "        vertical-align: top;\n",
       "    }\n",
       "\n",
       "    .dataframe thead th {\n",
       "        text-align: right;\n",
       "    }\n",
       "</style>\n",
       "<table border=\"1\" class=\"dataframe\">\n",
       "  <thead>\n",
       "    <tr style=\"text-align: right;\">\n",
       "      <th></th>\n",
       "      <th>ingredients</th>\n",
       "      <th>measurement(in oz or unit)</th>\n",
       "    </tr>\n",
       "  </thead>\n",
       "  <tbody>\n",
       "    <tr>\n",
       "      <th>0</th>\n",
       "      <td>mezcal</td>\n",
       "      <td>4</td>\n",
       "    </tr>\n",
       "    <tr>\n",
       "      <th>1</th>\n",
       "      <td>sweet vermouth</td>\n",
       "      <td>2</td>\n",
       "    </tr>\n",
       "    <tr>\n",
       "      <th>2</th>\n",
       "      <td>bitters</td>\n",
       "      <td>3</td>\n",
       "    </tr>\n",
       "  </tbody>\n",
       "</table>\n",
       "</div>"
      ],
      "text/plain": [
       "      ingredients measurement(in oz or unit)\n",
       "0          mezcal                          4\n",
       "1  sweet vermouth                          2\n",
       "2         bitters                          3"
      ]
     },
     "metadata": {},
     "output_type": "display_data"
    }
   ],
   "source": [
    "# Let's try to give it some input\n",
    "measure = df_filled['measurement'].tolist()\n",
    "ingredient = df_filled['ingredient'].tolist()\n",
    "# Here's few lists of the ingredients\n",
    "example_list_1 = ['lemon juice','soda','orange juice','tequila']\n",
    "example_list_2 = ['coconut rum','cream','rum','cherry','pineapple juice','ice']\n",
    "example_list_3 = ['light rum','salt','triple sec','cinnamon','lemon juice']\n",
    "#an actual drink, snabbed from this menu: https://www.lapalapapgh.com/menu\n",
    "example_list_4 = ['mezcal', 'sweet vermouth','bitters']\n",
    "#I have yet to make these but hopefully they are okay to consume\n",
    "display(makeDrink(measure,ingredient, example_list_1))\n",
    "#print(\"*********************************************\")\n",
    "display(makeDrink(measure,ingredient, example_list_2))\n",
    "display(makeDrink(measure,ingredient, example_list_3))\n",
    "display(makeDrink(measure,ingredient, example_list_4))\n"
   ]
  },
  {
   "cell_type": "code",
   "execution_count": null,
   "metadata": {},
   "outputs": [],
   "source": []
  }
 ],
 "metadata": {
  "kernelspec": {
   "display_name": "Python 3",
   "language": "python",
   "name": "python3"
  },
  "language_info": {
   "codemirror_mode": {
    "name": "ipython",
    "version": 3
   },
   "file_extension": ".py",
   "mimetype": "text/x-python",
   "name": "python",
   "nbconvert_exporter": "python",
   "pygments_lexer": "ipython3",
   "version": "3.6.4"
  }
 },
 "nbformat": 4,
 "nbformat_minor": 2
}
