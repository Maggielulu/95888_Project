{
 "cells": [
  {
   "cell_type": "markdown",
   "metadata": {},
   "source": [
    "# Feature 1: Data Collection"
   ]
  },
  {
   "cell_type": "markdown",
   "metadata": {},
   "source": [
    "** IMPORTANT! **\n",
    "** Web scraping takes a long time, if possible, please don't run the entire thing. I have written some test functions to show that the below code works, please find them here: **\n",
    "** For the Web API part, I grabbed 500 random drinks, therefore if you run the below code, the outcome may be different than the presentation slides**"
   ]
  },
  {
   "cell_type": "markdown",
   "metadata": {},
   "source": [
    "## Web Scraping: AllRecipes.com and Epicurious.com"
   ]
  },
  {
   "cell_type": "markdown",
   "metadata": {},
   "source": [
    "-  Reference: \n",
    "    -  https://nycdatascience.com/blog/student-works/recipes-scraping-top-20-recipes-allrecipes/\n",
    "-  Selenium is used because the webpages utilize AJAX, combined with beautifulsoup the speed of scraping seems to be improved "
   ]
  },
  {
   "cell_type": "markdown",
   "metadata": {},
   "source": [
    "### Import packages and define functions"
   ]
  },
  {
   "cell_type": "code",
   "execution_count": 2,
   "metadata": {},
   "outputs": [],
   "source": [
    "import os\n",
    "import sys\n",
    "import bs4\n",
    "import requests\n",
    "import time\n",
    "import numpy as np\n",
    "import pandas as pd\n",
    "from bs4 import BeautifulSoup as bs\n",
    "from selenium import webdriver\n",
    "from selenium import webdriver\n",
    "from selenium.webdriver.common.keys import Keys\n",
    "from selenium.webdriver.common.by import By\n",
    "from selenium.webdriver.support.ui import WebDriverWait\n",
    "from selenium.webdriver.support import expected_conditions as EC\n",
    "from selenium.common.exceptions import TimeoutException\n",
    "from selenium.webdriver.chrome.options import Options\n",
    "\n",
    "######### see Lab3 ###############\n",
    "def get_text_from_elements(elements):\n",
    "    \"\"\"Uses list comprehension to parse out the cleaned text strings from a list of\n",
    "    elements returned from a BeautifulSoup selection.\n",
    "\n",
    "    Arguments:\n",
    "        elements {list} -- list of elements returned from a BeautifulSoup selection\n",
    "\n",
    "    Returns:\n",
    "        list -- list of cleaned text contained within the element list\n",
    "    \"\"\"\n",
    "    return [e.text.strip() for e in elements]\n"
   ]
  },
  {
   "cell_type": "markdown",
   "metadata": {},
   "source": [
    "### Choosing cocktails with different base liquors from AllRecipes.com"
   ]
  },
  {
   "cell_type": "code",
   "execution_count": 3,
   "metadata": {},
   "outputs": [],
   "source": [
    "# get the URL for different categories of drinks, no other way than just to explore the website\n",
    "rumURL = \"https://www.allrecipes.com/recipes/1741/drinks/cocktails/rum-drinks/\"\n",
    "ginURL = \"https://www.allrecipes.com/recipes/1739/drinks/cocktails/gin-drinks/\"\n",
    "bourbonURL = \"https://www.allrecipes.com/recipes/16957/drinks/cocktails/bourbon-drinks/\"\n",
    "champURL = \"https://www.allrecipes.com/recipes/14975/drinks/cocktails/champagne-drinks/\"\n",
    "blendedURL = \"https://www.allrecipes.com/recipes/17651/drinks/cocktails/blended-cocktails/\"\n",
    "tequilaURL = \"https://www.allrecipes.com/recipes/1742/drinks/cocktails/tequila-drinks/\"\n",
    "vodkaURL = \"https://www.allrecipes.com/recipes/1743/drinks/cocktails/vodka-drinks/\"\n",
    "whiskeyURL = \"https://www.allrecipes.com/recipes/1744/drinks/cocktails/whiskey-drinks/\"\n",
    "\n",
    "baseURL = (rumURL, ginURL, bourbonURL, champURL, blendedURL, tequilaURL, vodkaURL, whiskeyURL)\n",
    "\n",
    "#print(baseURL)\n",
    "### Import packages and define functions"
   ]
  },
  {
   "cell_type": "code",
   "execution_count": 4,
   "metadata": {},
   "outputs": [],
   "source": [
    "# grab all the recipe IDs from the list of URLs\n",
    "# this may take a while, if the webpage got stuck on Chrome, please refresh the page and it should proceed\n",
    "recipeID = list()\n",
    "browser = webdriver.Chrome()\n",
    "for url in baseURL:\n",
    "    browser.get(url)\n",
    "    #data = r.text\n",
    "    time.sleep(5)\n",
    "    soup = bs(browser.page_source, 'html.parser')\n",
    "    elements = soup.select('article.fixed-recipe-card > a')\n",
    "    for e in elements:\n",
    "        drink_id = e.get(\"data-id\")\n",
    "    #ls = [e.get_attribute('data-id') for e in browser.find_elements_by_class_name('favorite')]\n",
    "    #print([e.get_attribute('data-id') for e in browser.find_elements_by_class_name('favorite')])\n",
    "    #print(browser.find_elements_by_css_selector('ar-save-item.favorite'))\n",
    "        recipeID.append(drink_id)\n",
    "    \n",
    "#print(len(recipeID))\n"
   ]
  },
  {
   "cell_type": "markdown",
   "metadata": {},
   "source": [
    "### Web Scraping individual webpages for Cocktail recipes"
   ]
  },
  {
   "cell_type": "code",
   "execution_count": 5,
   "metadata": {},
   "outputs": [],
   "source": [
    "#Disabling JavaScript loading to speed up the process\n",
    "chrome_options = Options()\n",
    "chrome_options.add_experimental_option( \"prefs\",{'profile.managed_default_content_settings.javascript': 2})\n",
    "browser = webdriver.Chrome('chromedriver',chrome_options=chrome_options)\n",
    "\n",
    "dict = {}\n",
    "for drink_id in recipeID:\n",
    "    #print(drink_id)\n",
    "    url = \"https://www.allrecipes.com/recipe/\"+ drink_id\n",
    "    browser.get(url)\n",
    "    time.sleep(5)\n",
    "    soup = bs(browser.page_source, 'html.parser')\n",
    "    name = get_text_from_elements(soup.select(\"h1.recipe-summary__h1\"))\n",
    "    if len(name) >= 0:\n",
    "        #print(str(name))\n",
    "        #elements = soup.select(\"section.recipe-summary > h1\")\n",
    "        ingre = soup.select(\"span.recipe-ingred_txt.added\")\n",
    "        ls=get_text_from_elements(ingre)\n",
    "        if len(ls) >= 2:\n",
    "            ls.pop()\n",
    "            ls.pop()\n",
    "            #print(ls)\n",
    "            dict[str(name)]=ls\n",
    "#print(dict)"
   ]
  },
  {
   "cell_type": "markdown",
   "metadata": {},
   "source": [
    "###  Save to an intermediary .csv file for cleaning"
   ]
  },
  {
   "cell_type": "code",
   "execution_count": 6,
   "metadata": {},
   "outputs": [],
   "source": [
    "#print(len(dict))\n",
    "# Now, put them in a csv file and clean it later\n",
    "df = pd.DataFrame.from_dict(dict, orient=\"index\")\n",
    "df.to_csv(\"allrecipes_raw.csv\")\n"
   ]
  },
  {
   "cell_type": "markdown",
   "metadata": {},
   "source": [
    "### Repeat the same process for Epicurious.com"
   ]
  },
  {
   "cell_type": "code",
   "execution_count": 7,
   "metadata": {},
   "outputs": [],
   "source": [
    "# get the URL for different pages, as of now there are 49 pages\n",
    "url = \"https://www.epicurious.com/type/cocktail?page=\"\n",
    "pageURL = list()\n",
    "recipe_names = list()\n",
    "for i in range(1,50):\n",
    "    pageURL.append(url+str(i))\n",
    "\n",
    "#print(pageURL)\n",
    "\n",
    "browser = webdriver.Chrome()\n",
    "\n",
    "for url in pageURL:\n",
    "    browser.get(url)\n",
    "    #data = r.text\n",
    "    #time.sleep(5)\n",
    "    soup = bs(browser.page_source, 'html.parser')\n",
    "    elements = soup.select('div.list_c_hed > a')\n",
    "    for e in elements:\n",
    "        if '/recipes/food/views/' in e.get('href'):\n",
    "            recipe_names.append(e.get('href'))\n",
    "            \n",
    "#print(recipe_names)"
   ]
  },
  {
   "cell_type": "code",
   "execution_count": 8,
   "metadata": {},
   "outputs": [],
   "source": [
    "chrome_options = Options()\n",
    "chrome_options.add_experimental_option( \"prefs\",{'profile.managed_default_content_settings.javascript': 2})\n",
    "browser = webdriver.Chrome('chromedriver',chrome_options=chrome_options)\n",
    "\n",
    "dict = {}\n",
    "\n",
    "for n in recipe_names:\n",
    "    browser.get(\"https://www.epicurious.com\"+n)\n",
    "    #data = r.text\n",
    "    #time.sleep(5)\n",
    "    soup = bs(browser.page_source, 'html.parser')\n",
    "    title = soup.select('div.title-source > h1')\n",
    "    elements = get_text_from_elements(soup.select('ul.ingredients > li'))\n",
    "    dict[get_text_from_elements(title)[0]]=elements"
   ]
  },
  {
   "cell_type": "code",
   "execution_count": 9,
   "metadata": {},
   "outputs": [],
   "source": [
    "df = pd.DataFrame.from_dict(dict, orient=\"index\")\n",
    "df.to_csv(\"epicurious_raw.csv\")"
   ]
  },
  {
   "cell_type": "markdown",
   "metadata": {},
   "source": [
    "## Web API: CocktailDB.com"
   ]
  },
  {
   "cell_type": "markdown",
   "metadata": {},
   "source": [
    "### Import Packages"
   ]
  },
  {
   "cell_type": "code",
   "execution_count": 11,
   "metadata": {},
   "outputs": [],
   "source": [
    "import json\n",
    "import urllib3\n",
    "urllib3.disable_warnings()\n",
    "from itertools import chain\n",
    "from dask import bag"
   ]
  },
  {
   "cell_type": "markdown",
   "metadata": {},
   "source": [
    "### Extract JSON objects"
   ]
  },
  {
   "cell_type": "code",
   "execution_count": 41,
   "metadata": {},
   "outputs": [],
   "source": [
    "#transform 1000 JSON objects into a dataframe containing all the raw information\n",
    "def get_random_drink():\n",
    "    url = \"https://www.thecocktaildb.com/api/json/v1/1/random.php\"\n",
    "    http = urllib3.PoolManager()\n",
    "    response = http.request('GET', url)\n",
    "    soup = bs(response.data,'html.parser')\n",
    "    newDictionary=json.loads(str(soup))\n",
    "    return list(chain(*newDictionary.values()))\n",
    "\n",
    "drink_bag = bag.from_sequence(range(1000))\n",
    "all_drinks = drink_bag.map(lambda x: get_random_drink()).compute()\n",
    "drink_df = pd.DataFrame(list(chain(*all_drinks)))"
   ]
  },
  {
   "cell_type": "code",
   "execution_count": 42,
   "metadata": {},
   "outputs": [],
   "source": [
    "#eliminate the columns that we will not be using\n",
    "useless_columns = ['dateModified','idDrink', 'strAlcoholic','strCategory','strDrinkThumb','strGlass','strIBA','strInstructions','strVideo']\n",
    "drink_df.drop(useless_columns, axis=1, inplace=True)"
   ]
  },
  {
   "cell_type": "code",
   "execution_count": 90,
   "metadata": {},
   "outputs": [
    {
     "name": "stdout",
     "output_type": "stream",
     "text": [
      "{'Spanish chocolate': ['Milk', '2 cups ', 'Chocolate', '2 oz sweet ', 'Cinnamon', '1/2 tsp ', 'Egg yolk', '2 beaten '], 'Martini': ['Gin', '1 2/3 oz ', 'Dry Vermouth', '1/3 oz ', 'Olive', '1 '], 'Coke and Drops': ['Coca-Cola', '1 dl ', 'Lemon juice', '7 drops '], 'Pink Lady': ['Gin', '1 1/2 oz ', 'Grenadine', '1 tsp ', 'Light cream', '1 tsp ', 'Egg white', '1 '], 'Mojito': ['Light rum', '2-3 oz ', 'Lime', 'Juice of 1 ', 'Sugar', '2 tsp ', 'Mint', '2-4 ', 'Soda water'], 'Irish Spring': ['Irish whiskey', '1 oz ', 'Peach brandy', '1/2 oz ', 'Orange juice', '1 oz ', 'Sweet and sour', '1 oz ', 'Orange', '1 slice ', 'Cherry', '1 '], 'Chocolate Milk': ['Chocolate liqueur', '1/2 shot ', 'Milk', '1/2 shot ', 'Amaretto', '1 dash '], 'Chocolate Beverage': ['Milk', '6 cups ', 'Chocolate', '3 oz Mexican ', 'Cinnamon', '1 tsp powdered ', 'Egg', '3 '], 'Sazerac': ['Ricard', '1 tsp ', 'Sugar', '1/2 tsp superfine ', 'Peychaud bitters', '2 dashes ', 'Water', '1 tsp ', 'Bourbon', '2 oz ', 'Lemon peel', '1 twist of '], 'Amaretto Mist': ['Amaretto', '1 1/2 oz ', 'Lime', '1 '], 'Lone Tree Cocktail': ['Sweet Vermouth', '3/4 oz ', 'Gin', '1 1/2 oz '], 'Afternoon': ['Kahlua', '1 cl ', \"Bailey's irish cream\", '1 cl ', 'Frangelico', '1 1/2 ', 'Coffee', '4 cl hot ', 'Cream'], 'Vodka And Tonic': ['Vodka', '2 oz ', 'Tonic water'], 'Tom Collins': ['Gin', '2 oz ', 'Lemon juice', '1 oz ', 'Sugar', '1 tsp superfine ', 'Club soda', '3 oz ', 'Maraschino cherry', '1 ', 'Orange', '1 '], 'Flying Dutchman': ['Gin', '2 oz ', 'Triple sec', '1/2 oz '], 'Allegheny': ['Dry Vermouth', '1 oz ', 'Bourbon', '1 oz ', 'Blackberry brandy', '1 1/2 tsp ', 'Lemon juice', '1 1/2 tsp ', 'Lemon peel', '1 twist of '], 'Bobby Burns Cocktail': ['Sweet Vermouth', '1 1/2 oz ', 'Scotch', '1 1/2 oz ', 'Benedictine', '1 1/4 tsp ', 'Lemon peel', '1 twist of '], 'Irish Russian': ['Vodka', '1 shot ', 'Kahlua', '1 shot ', 'Coca-Cola', '1 dash ', 'Guinness stout', 'Fill with '], 'Bijou': ['Orange Bitters', '1 dash', 'Green Chartreuse', '1 oz', 'Gin', '1 oz', 'Sweet Vermouth', '1 oz'], 'Bleeding Surgeon': ['Dark rum', '1 shot ', 'Orange', '1 slice ', 'Surge', '1/2 glass ', 'Cranberry juice', '1/2 glass '], 'Mississippi Planters Punch': ['Brandy', '1 oz ', 'Light rum', '1/2 oz ', 'Bourbon', '1/2 oz ', 'Lemon', 'Juice of 1/2 ', 'Powdered sugar', '1 tblsp ', 'Carbonated water'], 'Ruby Tuesday': ['Gin', '2 oz ', 'Cranberry juice', '5 oz ', 'Grenadine', '2 splashes '], 'Rum Old-fashioned': ['Light rum', '1 1/2 oz ', '151 proof rum', '1 tsp ', 'Powdered sugar', '1/2 tsp ', 'Bitters', '1 dash ', 'Water', '1 tsp ', 'Lime peel', 'Twist of '], 'Kiwi Papaya Smoothie': ['Kiwi', '3 ', 'Papaya', '1/2 '], 'Adam Sunrise': ['Vodka', '1/2 ', 'Lemonade', '1/2 can ', 'Water', '1/2 ', 'Sugar', '10 tsp '], 'Vermouth Cassis': ['Dry Vermouth', '1 1/2 oz ', 'Creme de Cassis', '3/4 oz ', 'Carbonated water'], 'Whiskey Sour': ['Blended whiskey', '2 oz ', 'Lemon', 'Juice of 1/2 ', 'Powdered sugar', '1/2 tsp ', 'Cherry', '1 ', 'Lemon', '1/2 slice '], 'Hawaiian Cocktail': ['Gin', '2 oz ', 'Triple sec', '1/2 oz ', 'Pineapple juice', '1 tblsp '], 'Queen Charlotte': ['Red wine', '2 oz ', 'Grenadine', '1 oz ', 'Lemon-lime soda'], 'Caribbean Boilermaker': ['Corona', '1 bottle ', 'Light rum', '1 shot '], 'Apple Berry Smoothie': ['Berries', '1 cup ', 'Apple', '2 '], 'Applejack': ['Jack Daniels', '1 oz ', 'Midori melon liqueur', '1/2 oz ', 'Sour mix', '2 oz '], 'Golden dream': ['Galliano', '2 parts', 'Triple Sec', '2 parts', 'orange juice', '2 parts', 'Cream', '1 part'], 'Pegu Club': ['Gin', '1 1/2 oz', 'Orange Curacao', '3/4 oz', 'Lime Juice', '3/4 oz', 'Angostura Bitters', '1 dash', 'Orange Bitters', '1 dash'], 'Jitterbug': ['Gin', '2 jiggers ', 'Vodka', '1 jigger ', 'Grenadine', '3 dashes ', 'Lime juice', '1 shot ', 'Sugar', 'Around rim put 1 pinch ', 'Sugar syrup', '3 dashes ', 'Soda water', 'Fill to top with '], 'Karsk': ['Coffee', '1 part ', 'Grain alcohol', '2 parts '], 'Blue Hurricane': ['Rum', '4 parts', 'Dark Rum', '2 parts', 'Passoa', '1 part', 'Blue Curacao', '1 part', 'Sweet and Sour', '6 parts', 'Ice', 'cubes'], 'Grasshopper': ['Green Creme de Menthe', '3/4 oz ', 'Creme de Cacao', '3/4 oz white ', 'Light cream', '3/4 oz '], 'Amaretto Stone Sour #3': ['Sour mix', '2 oz ', 'Amaretto', '2 oz ', 'Tequila', '2 oz ', 'Orange juice', 'Add splash '], 'Midnight Manx': ['Kahlua', '1 oz ', \"Bailey's irish cream\", '1 oz ', 'Goldschlager', 'dash ', 'Heavy cream', '2 oz ', 'Coffee', '2 oz Hazlenut '], '3 Wise Men': ['Jack Daniels', '1/3 oz ', 'Johnnie Walker', '1/3 oz ', 'Jim Beam', '1/3 oz '], 'Orange Oasis': ['Cherry brandy', '1/2 oz ', 'Gin', '1 1/2 oz ', 'Orange juice', '4 oz ', 'Ginger ale'], 'Banana Cantaloupe Smoothie': ['Cantaloupe', 'Juice of 1/2 ', 'Banana', '1 '], 'Bora Bora': ['Pineapple juice', '10 cl ', 'Passion fruit juice', '6 cl ', 'Lemon juice', '1 cl ', 'Grenadine', '1 cl '], 'Affair': ['Strawberry schnapps', '2 oz ', 'Orange juice', '2 oz ', 'Cranberry juice', '2 oz ', 'Club soda'], 'Fahrenheit 5000': ['Firewater', '1/2 oz ', 'Absolut Peppar', '1/2 oz ', 'Tabasco sauce', '1 dash '], 'Stinger': ['Brandy', '1 1/2 oz ', 'White Creme de Menthe', '1/2 oz '], 'Zima Blaster': ['Zima', '12 oz ', 'Chambord raspberry liqueur', '3 oz '], 'Kamikaze': ['Vodka', '1 oz ', 'Triple sec', '1 oz ', 'Lime juice', '1 oz '], 'Orange Whip': ['Orange juice', '4 oz ', 'Rum', '1 oz ', 'Vodka', '1 oz ', 'Cream', '1 package ', 'Ice', 'Over '], 'Sea breeze': ['Vodka', '1 1/2 oz ', 'Cranberry juice', '4 oz ', 'Grapefruit juice', '1 oz '], 'Whisky Mac': ['Scotch', '1 1/2 oz ', 'Wine', '1 oz Green Ginger '], 'Gin And Tonic': ['Gin', '2 oz ', 'Tonic water', '5 oz ', 'Lime', '1 '], \"Planter's Punch\": ['Dark rum', '1 part ', 'Orgeat syrup', '1/2 part ', 'Orange juice', '2 parts ', 'Pineapple juice', '1 part '], 'Black and Brown': ['Guinness stout', '1/2 ', 'Root beer', '1/2 '], 'English Highball': ['Brandy', '3/4 oz ', 'Gin', '3/4 oz ', 'Sweet Vermouth', '3/4 oz ', 'Carbonated water', 'Lemon peel'], 'Kool First Aid': ['151 proof rum', '2 oz light ', 'Kool-Aid', '1/2 tsp Tropical '], 'John Collins': ['Bourbon', '2 oz ', 'Lemon juice', '1 oz ', 'Sugar', '1 tsp superfine ', 'Club soda', '3 oz ', 'Maraschino cherry', '1 ', 'Orange', '1 '], 'Hemingway Special': ['Rum', '12 parts', 'Grapefruit Juice', '8 parts', 'Maraschino Liqueur', '3 parts', 'Lime Juice', '3 parts'], 'Scottish Highland Liqueur': ['Johnnie Walker', '1 fifth ', 'Honey', '1 1/2 cup mild ', 'Angelica root', '2 tsp dried and chopped ', 'Fennel seeds', '1/4 tsp crushed ', 'Lemon peel', '2 2 inch strips '], 'Caipirissima': ['Lime', '2 ', 'Sugar', '2 tblsp ', 'White rum', '2-3 oz ', 'Ice', 'crushed '], 'Kentucky Colonel': ['Bourbon', '3 oz ', 'Benedictine', '1/2 oz ', 'Lemon peel', '1 twist of '], 'Green Goblin': ['Cider', '1/2 pint hard ', 'Lager', '1/2 pint ', 'Blue Curacao', '1 shot '], 'Arthur Tompkins': ['Gin', '2 oz ', 'Grand Marnier', '1/2 oz ', 'Lemon juice', '2 tsp ', 'Lemon peel', '1 twist of '], 'London Town': ['Gin', '1 1/2 oz ', 'Maraschino liqueur', '1/2 oz ', 'Orange bitters', '2 dashes '], 'Grizzly Bear': ['Amaretto', '1 part ', 'Jägermeister', '1 part ', 'Kahlua', '1 part ', 'Milk', '2 1/2 parts '], \"Bailey's Dream Shake\": [\"Bailey's irish cream\", '2 oz ', 'Vanilla ice-cream', '2 scoops ', 'Cream'], 'Penicillin': ['Blended Scotch', '2 oz', 'Lemon Juice', '3/4 oz', 'Honey syrup', '2 tsp', 'Ginger Syrup', '2 tsp', 'Islay single malt Scotch', '1/4 oz'], 'Alfie Cocktail': ['Lemon vodka', '1 1/2 oz ', 'Triple sec', '1 dash ', 'Pineapple juice', '1 tblsp '], 'Brainteaser': ['Sambuca', '30 ml white ', 'Erin Cream', '30 ml ', 'Advocaat', '5 ml '], 'Turkeyball': ['Wild Turkey', '1 oz ', 'Amaretto', '3/4 oz ', 'Pineapple juice', '1 splash '], 'Vodka Fizz': ['Vodka', '2 oz ', 'Half-and-half', '2 oz ', 'Limeade', '2 oz ', 'Ice', 'Nutmeg'], 'Egg Cream': ['Chocolate syrup', '2 tblsp ', 'Milk', '6 oz whole ', 'Soda water', '6 oz '], 'Pisco Sour': ['Pisco', '2 oz ', 'Lemon juice', '1 oz ', 'Sugar', '1-2 tblsp ', 'Ice'], 'French Negroni': ['Gin', '1 oz', 'Lillet', '1 oz', 'Sweet Vermouth', '1 oz', 'Orange Peel', '1'], 'Shanghai Cocktail': ['Light rum', '1 oz Jamaican ', 'Anisette', '1 tsp ', 'Grenadine', '1/2 tsp ', 'Lemon', 'Juice of 1/4 '], 'Zinger': ['Peachtree schnapps', '4 shots ', 'Surge', '4 shots '], 'Arizona Twister': ['Vodka', '1 shot ', 'Malibu rum', '1 shot ', 'Gold tequila', '1 shot ', 'Orange juice', '1 splash ', 'Pineapple juice', '1 splash ', 'Cream of coconut', '1 splash ', 'Grenadine', '1 dash ', 'Ice', 'crushed ', 'Pineapple', '1 wedge '], \"Brandon and Will's Coke Float\": ['Vanilla ice-cream', '2 scoops ', 'Coca-Cola', '1 can ', 'Bourbon', '2 oz '], 'Black Forest Shake': ['Ice', ' cubes\\n', 'Chocolate syrup', 'Cherry brandy', 'Vodka', 'Milk'], 'Pineapple Gingerale Smoothie': ['Ginger', '1/4 inch ', 'Pineapple', '1/2 '], 'Tia-Maria': ['Water', '1 cup ', 'Brown sugar', '3/4-1 cup ', 'Coffee', '4 tsp ', 'Rum', '1 cup ', 'Vanilla extract', '4 tsp '], 'Gin Daisy': ['Gin', '2 oz ', 'Lemon juice', '1 oz ', 'Sugar', '1/2 tsp superfine ', 'Grenadine', '1/2 tsp ', 'Maraschino cherry', '1 ', 'Orange', '1 '], 'ABC': ['Amaretto', '1/3 ', \"Bailey's irish cream\", '1/3 ', 'Cognac', '1/3 '], 'Zimadori Zinger': ['Midori melon liqueur', '1.5 oz ', 'Zima', '12 oz '], 'Bible Belt': ['Southern Comfort', '2 oz ', 'Triple sec', '1/2 oz ', 'Lime', '2 wedges ', 'Sour mix', '2 oz '], 'Black Russian': ['Coffee liqueur', '3/4 oz ', 'Vodka', '1 1/2 oz '], 'After Supper Cocktail': ['Triple sec', '1 oz ', 'Apricot brandy', '1 oz ', 'Lemon juice', '1/2 tsp '], 'Kool-Aid Shot': ['Vodka', '1 shot ', 'Amaretto', '1 shot ', 'Sloe gin', '1 shot ', 'Triple sec', '1 shot ', 'Cranberry juice'], 'Black &amp; Tan': ['Ale', '1 part Bass pale ', 'Guinness stout', '1 part '], 'Tipperary': ['Irish Whiskey', '2 oz', 'Sweet Vermouth', '1 oz', 'Green Chartreuse', '1/2 oz'], 'Grim Reaper': ['Kahlua', '1 oz ', '151 proof rum', '1 oz Bacardi ', 'Grenadine', '1 dash '], 'Chocolate Black Russian': ['Kahlua', '1 oz ', 'Vodka', '1/2 oz ', 'Chocolate ice-cream', '5 oz '], 'Godmother': ['Vodka', '1 1/2 oz ', 'Amaretto', '3/4 oz '], 'Mulled Wine': ['Water', '3 cups ', 'Sugar', '1 cup ', 'Cloves', '12 ', 'Cinnamon', '2 ', 'Lemon peel', '1 ', 'Red wine', '750 ml ', 'Brandy', '1/4 cup '], 'Vampiro': ['Tequila', '6 cl', 'Tomato Juice', '3 cl', 'Orange Juice', '3 cl', 'Lime Juice', '1.5 cl', 'Sugar Syrup', '1 dash', 'Salt', '1 pinch'], 'Gin Sour': ['Gin', '2 oz ', 'Lemon juice', '1 oz ', 'Sugar', '1/2 tsp superfine ', 'Orange', '1 ', 'Maraschino cherry', '1 '], 'B-53': ['Kahlua', '1/3 shot ', 'Sambuca', '1/3 shot ', 'Grand Marnier', '1/3 shot '], 'Apple Pie with A Crust': ['Apple juice', '3 parts ', 'Malibu rum', '1 part ', 'Cinnamon', '3 dashes '], 'Port Wine Flip': ['Port', '1 1/2 oz ', 'Light cream', '2 tsp ', 'Powdered sugar', '1 tsp ', 'Egg', '1 whole ', 'Nutmeg'], \"Bruce's Puce\": ['Grenadine', 'Kahlua', \"Bailey's irish cream\"], 'Stone Sour': ['Apricot brandy', '1 oz ', 'Orange juice', '1 oz ', 'Sweet and sour', '1 oz '], '155 Belmont': ['Dark rum', '1 shot ', 'Light rum', '2 shots ', 'Vodka', '1 shot ', 'Orange juice', '1 shot '], 'Zizi Coin-coin': ['Cointreau', '5 cl ', 'Lemon juice', '2 cl ', 'Ice', ' cubes\\n', 'Lemon', ' or lime\\n'], 'Sherry Flip': ['Sherry', '1 1/2 oz cream ', 'Light cream', '2 tsp ', 'Powdered sugar', '1 tsp ', 'Egg', '1 whole ', 'Nutmeg'], 'Snakebite and Black': ['Lager', '1/2 pint ', 'Cider', '1/2 pint ', 'Blackcurrant squash', 'A little bit of '], 'Apricot Lady': ['Light rum', '1 1/2 oz ', 'Apricot brandy', '1 oz ', 'Triple sec', '1 tsp ', 'Lemon juice', '1/2 oz ', 'Egg white', '1 ', 'Orange', '1 '], 'Barracuda': ['Rum', '4.5 cl', 'Galliano', '1.5 cl', 'Pineapple Juice', '6 cl', 'Lime Juice', ' 1 dash', 'Prosecco', 'top up '], 'Royal Flush': ['Crown Royal', '1 1/2 oz ', 'Peach schnapps', '1 oz ', 'Chambord raspberry liqueur', '1/2 oz ', 'Cranberry juice', '1 oz '], 'Sweet Sangria': ['Red wine', '2 bottles ', 'Sugar', '1 cup ', 'Water', '2 cups hot ', 'Apple', '1 cup ', 'Orange', ' wedges\\n', 'Lime', ' wedges\\n', 'Lemon', 'Fresca'], 'Frozen Pineapple Daiquiri': ['Light rum', '1 1/2 oz ', 'Pineapple', '4 chunks ', 'Lime juice', '1 tblsp ', 'Sugar', '1/2 tsp '], 'Drinking Chocolate': ['Heavy cream', '2 oz ', 'Milk', '6-8 oz ', 'Cinnamon', '1 stick ', 'Vanilla', '1 ', 'Chocolate', '2 oz finely chopped dark ', 'Whipped cream', 'Fresh '], 'Almeria': ['Dark rum', '2 oz ', 'Kahlua', '1 oz ', 'Egg white', '1 '], 'Butter Baby': ['Vanilla Ice-Cream', '2 scoops ', 'Butterscotch schnapps', '1 part ', 'Milk', 'full glass ', 'Vodka', '2 parts '], 'Adios Amigos Cocktail': ['Rum', '1 shot ', 'Dry Vermouth', '1/2 shot ', 'Cognac', '1/2 shot ', 'Gin', '1/2 shot ', 'Fresh Lime Juice', '1/4 shot', 'Sugar Syrup', '1/4 shot', 'Water', '1/2 shot '], 'Waikiki Beachcomber': ['Triple sec', '3/4 oz ', 'Gin', '3/4 oz ', 'Pineapple juice', '1 tblsp '], 'Scooter': ['Brandy', '1 oz ', 'Amaretto', '1 oz ', 'Light cream', '1 oz '], 'Lady Love Fizz': ['Gin', '2 oz ', 'Light cream', '2 tsp ', 'Powdered sugar', '1 tsp ', 'Lemon', 'Juice of 1/2 ', 'Egg white', '1 ', 'Carbonated water'], 'Hot Creamy Bush': ['Irish whiskey', '1 shot ', \"Bailey's irish cream\", '3/4 shot ', 'Coffee', '6 oz hot '], 'Salty Dog': ['Grapefruit juice', '5 oz ', 'Gin', '1 1/2 oz ', 'Salt', '1/4 tsp '], 'Bahama Mama': ['Rum', '3 parts', 'Dark Rum', '1 part', 'Banana liqueur', '1 part', 'Grenadine', '1 part', 'Pineapple Juice', '2 parts', 'Orange Juice', '2 parts', 'Sweet and Sour', '1 part'], 'Jamaican Coffee': ['Rum', '1/6 glass ', 'Coffee', '1/6 glass strong black ', 'Water', '1/2 glass cold ', 'Whipped cream'], 'Sidecar Cocktail': ['Brandy', '1 oz ', 'Triple sec', '1/2 oz ', 'Lemon', 'Juice of 1/4 '], 'Bourbon Sour': ['Bourbon', '2 oz ', 'Lemon juice', '1 oz ', 'Sugar', '1/2 tsp superfine ', 'Orange', '1 ', 'Maraschino cherry', '1 '], 'Lone Tree Cooler': ['Carbonated water', 'Gin', 'Dry Vermouth', 'Powdered sugar', 'Orange spiral', 'Lemon peel'], 'Absolutly Screwed Up': ['Absolut Citron', '1 shot ', 'Orange juice', '1 shot ', 'Triple sec', '1 shot ', 'Ginger ale', 'Fill to top '], 'Oreo Mudslide': ['Vodka', '1 oz ', 'Kahlua', '1 oz ', \"Bailey's irish cream\", '1 oz ', 'Vanilla ice-cream', '2 scoops ', 'Oreo cookie', '1 '], 'Arctic Mouthwash': ['Maui', '5 oz blue ', 'Mountain Dew', '5 oz ', 'Ice', ' cubes\\n'], 'Amaretto Sunrise': ['Amaretto', '1 cl ', 'Orange juice', '4 oz ', 'Grenadine', '1/4 cl '], 'New York Lemonade': ['Absolut Citron', '2 oz ', 'Grand Marnier', '1 oz ', 'Lemon juice', '2 oz sweetened ', 'Club soda', '1 oz '], 'Amaretto Sunset': ['Triple sec', '1/2 jigger ', 'Amaretto', '3 shots ', 'Cider', '1/2 cup ', 'Ice', 'Add 1/2 cup '], 'Absinthe #2': ['Vodka', '1 bottle ', 'Sugar', '50 gr ', 'Anise', '50 ml pure ', 'Licorice root', '1 tblsp ', 'Wormwood', '1 '], 'Coffee Liqueur': ['Coffee', '10 tblsp instant ', 'Vanilla extract', '4 tblsp ', 'Sugar', '2 1/2 cups ', 'Vodka', '1 qt ', 'Water', '2 1/2 cups '], 'Bermuda Highball': ['Brandy', '3/4 oz ', 'Gin', '3/4 oz ', 'Dry Vermouth', '3/4 oz ', 'Carbonated water', 'Lemon peel'], 'Tequila Fizz': ['Tequila', '2 oz ', 'Lemon juice', '1 tblsp ', 'Grenadine', '3/4 oz ', 'Egg white', '1 ', 'Ginger ale'], 'Gin Cooler': ['Gin', '2 oz ', 'Carbonated water', 'Powdered sugar', 'Orange spiral', 'Lemon peel'], 'Nutty Irishman': [\"Bailey's irish cream\", '1 part ', 'Frangelico', '1 part ', 'Milk', '1 part '], '747': ['Kahlua', '1/3 part ', \"Bailey's irish cream\", '1/3 part ', 'Frangelico', '1/3 part '], 'Bacardi Cocktail': ['Light rum', '1 3/4 oz Bacardi ', 'Lime juice', '1 oz ', 'Sugar syrup', '1/2 tsp ', 'Grenadine', '1 dash '], 'Autodafé': ['Vodka', '4 cl ', 'Lime juice', '1 dash ', 'Soda water'], 'Oatmeal Cookie': ['Kahlua', '2 parts', 'Bailey', '2 parts', 'Butterscotch schnapps', '4 parts', 'Jagermeister', '1 part', 'Goldschlager', '1/2 part'], 'Angelica Liqueur': ['Angelica root', '3 tblsp chopped', 'Almond', '1 tblsp chopped ', 'Allspice', '1 cracked ', 'Cinnamon', '1 one-inch ', 'Anise', '3-6 crushed ', 'Coriander', '1/8 tsp powdered ', 'Marjoram leaves', '1 tblsp fresh chopped ', 'Vodka', '1.5 cup ', 'Sugar', '1/2 cup granulated ', 'Water', '1/4 cup ', 'Food coloring', '1 drop yellow ', 'Food coloring', '1 drop green '], 'Sherry Eggnog': ['Sherry', '2 oz cream ', 'Powdered sugar', '1 tsp ', 'Egg', '1 whole ', 'Milk', 'Nutmeg'], 'Rum Screwdriver': ['Light rum', '1 1/2 oz ', 'Orange juice', '5 oz '], 'Lemon Drop': ['Absolut Vodka', '1 1/2 shot ', 'Cointreau', '1 1/2 shot ', 'Lemon', 'Juice of 1 wedge '], 'Bellini': ['Champagne', '6 oz ', 'Peach schnapps', '1 oz '], 'Lassi - Sweet': ['Yoghurt', '1 cup ', 'Water', '2 cups cold ', 'Sugar', '4 tblsp ', 'Salt', 'pinch ', 'Lemon juice', '2 tblsp '], 'Jewel Of The Nile': ['Gin', '1 1/2 oz ', 'Green Chartreuse', '1/2 oz ', 'Yellow Chartreuse', '1/2 oz '], 'Sidecar': ['Cognac', '2 oz ', 'Cointreau', '1/2 oz ', 'Lemon juice', '1 oz '], 'Affinity': ['Scotch', '1 1/2 oz ', 'Sweet Vermouth', '1 oz ', 'Dry Vermouth', '1 oz ', 'Orange bitters', '2 dashes '], 'Boxcar': ['Gin', '1 1/2 oz ', 'Triple sec', '1 oz ', 'Lemon juice', '1 tsp ', 'Grenadine', '1/2 tsp ', 'Egg white', '1 '], 'Cosmopolitan Martini': ['Cointreau', '1/2 oz ', 'Vodka', '1 oz ', 'Lime', 'Juice of 1/2 ', 'Cranberry juice', '1 splash '], 'Jam Donut': ['Baileys irish cream', '2/3 oz', 'Chambord raspberry liqueur', '1/3 oz', 'Sugar syrup', '1 tsp', 'Sugar', '2 pinches'], '252': ['151 proof rum', '1/2 shot Bacardi ', 'Wild Turkey', '1/2 shot '], 'Rum Milk Punch': ['Light rum', '2 oz ', 'Milk', '1 cup ', 'Powdered sugar', '1 tsp ', 'Nutmeg'], 'Berry Deadly': ['Everclear', '2 pint ', 'Wine', '1 bottle Boone Strawberry Hill ', 'Orange juice', '1/2 gal ', 'Kool-Aid', '1 gal Tropical Berry '], 'Castillian Hot Chocolate': ['Cocoa powder', '1/2 cup ', 'Sugar', '1 cup ', 'Cornstarch', '7 tsp ', 'Water', '1/2 cup ', 'Milk', '1 qt '], 'Brandy Flip': ['Brandy', '2 oz ', 'Egg', '1 whole ', 'Sugar', '1 tsp superfine ', 'Light cream', '1/2 oz ', 'Nutmeg', '1/8 tsp grated '], 'Girl From Ipanema': ['Cachaca', '25 ml', 'Lemon Juice', '15 ml', 'Agave Syrup', '10 ml', 'Champagne', 'top up with'], 'Vodka Russian': ['Vodka', '2 oz ', 'Schweppes Russchian'], 'Holloween Punch': ['Grape juice', 'Carbonated soft drink', ', orange\\n', 'Sherbet', 'Sherbet'], 'Kool-Aid Slammer': ['Kool-Aid', '1/2 oz Grape ', 'Vodka', '1/2 oz '], 'Apricot punch': ['Apricot brandy', '1 qt ', 'Champagne', '4 fifth ', 'Vodka', '1 fifth ', '7-Up', '4 L ', 'Orange juice', '1/2 gal '], 'Absolutely Fabulous': ['Vodka', '1 shot ', 'Cranberry Juice', '2 shots ', 'Champagne', 'Top up with'], 'Iced Coffee Fillip': ['Kahlua', '2 tsp ', 'Coffee', 'Strong cold '], 'Dark and Stormy': ['Dark Rum', '5 cl', 'Ginger Beer', '10 cl'], 'ACID': ['151 proof rum', '1 oz Bacardi ', 'Wild Turkey', '1 oz '], 'Sex on the Beach': ['Vodka', '1 oz ', 'Peach schnapps', '3/4 oz ', 'Cranberry juice', 'Grapefruit juice'], 'A Night In Old Mandalay': ['Light rum', '1 oz ', 'Añejo rum', '1 oz ', 'Orange juice', '1 oz ', 'Lemon juice', '1/2 oz ', 'Ginger ale', '3 oz ', 'Lemon peel', '1 twist of '], 'Lord And Lady': ['Dark rum', '1 1/2 oz ', 'Tia maria', '1/2 oz '], 'Absolut Stress #2': ['Absolut Vodka', '1 1/2 oz ', 'Peach schnapps', '1/2 oz ', 'Coconut liqueur', '1/2 oz ', 'Cranberry juice', '1 1/2 oz ', 'Pineapple juice', '1 1/2 oz '], 'Porto flip': ['Brandy', '3 parts', 'Port', '9 parts', 'Egg Yolk', '2 parts'], 'Egg-Nog - Classic Cooked': ['Egg', '6 ', 'Sugar', '1/4 cup ', 'Salt', '1/4 tsp ', 'Milk', '1 qt ', 'Vanilla extract', '1 tsp '], 'Cream Soda': ['Spiced rum', '1 oz ', 'Ginger ale'], 'A1': ['Gin', '1 3/4 shot ', 'Grand Marnier', '1 Shot ', 'Lemon Juice', '1/4 Shot', 'Grenadine', '1/8 Shot'], 'Bombay Cassis': ['Gin', '50 ml', 'Creme de Cassis', '20 ml', 'Fresh Lime Juice', '15 ml', 'Ginger beer', '75 ml', 'Lime', '1', 'Ginger', '1 long strip'], 'Creme de Menthe': ['Sugar', '8 cups ', 'Water', '6 cups ', 'Grain alcohol', '1 pint ', 'Peppermint extract', '1 oz pure ', 'Food coloring', '1 tblsp green '], 'Addison': ['Gin', '1 1/2 shot ', 'Vermouth', '1 1/2 shot '], 'Amaretto Sweet &amp; Sour': ['Amaretto', 'Sweet and sour', 'Midori melon liqueur', 'Pineapple juice'], 'Bob Marley': ['Midori melon liqueur', '1/2 oz ', 'Jägermeister', '1/2 oz ', 'Goldschlager', '1/2 oz '], 'Japanese Fizz': ['Blended whiskey', '1 1/2 oz ', 'Lemon', 'Juice of 1/2 ', 'Powdered sugar', '1 tsp ', 'Port', '1 tblsp ', 'Egg white', '1 ', 'Carbonated water'], 'Rosemary Blue': ['Gin', '50 ml', 'Blue Curacao', '15 ml', 'Tonic Water', '100 ml', 'Rosemary', 'Garnish with'], 'Long Island Iced Tea': ['Vodka', '1/2 oz ', 'Tequila', '1/2 oz ', 'Light rum', '1/2 oz ', 'Gin', '1/2 oz ', 'Coca-Cola', '1 dash ', 'Lemon peel', 'Twist of '], 'Old Pal': ['Rye whiskey', '2 oz', 'Campari', '1 oz', 'Dry Vermouth', '1 oz'], \"Jack's Vanilla Coke\": ['Ice', '4-5 ', 'Tennessee whiskey', '2 oz ', 'Vanilla extract', '1 tsp ', 'Coca-Cola', '10-12 oz '], 'Bourbon Sling': ['Sugar', '1 tsp superfine ', 'Water', '2 tsp ', 'Lemon juice', '1 oz ', 'Bourbon', '2 oz ', 'Lemon peel', '1 twist of '], 'Quick F**K': ['Kahlua', '1 part ', 'Midori melon liqueur', '1 part ', \"Bailey's irish cream\", '1 part '], 'Lassi - A South Indian Drink': ['Yoghurt', '1/2 cup plain ', 'Water', '1 1/4 cup cold ', 'Cumin seed', '1/2 tsp ground roasted ', 'Salt', '1/4 tsp ', 'Mint', '1/4 tsp dried '], 'Lassi Khara': ['Yoghurt', '1 cup ', 'Water', '2 cups cold ', 'Salt', '1 tsp ', 'Asafoetida', '1 pinch '], 'Rum Cobbler': ['Sugar', '1 tsp superfine ', 'Club soda', '3 oz ', 'Lemon', '1 ', 'Dark rum', '2 oz ', 'Maraschino cherry', '1 ', 'Orange', '1 '], 'Radioactive Long Island Iced Tea': ['Rum', '1 oz ', 'Vodka', '1 oz ', 'Tequila', '1 oz ', 'Gin', '1 oz ', 'Triple sec', '1 oz ', 'Chambord raspberry liqueur', '1 oz ', 'Midori melon liqueur', '1 oz ', 'Malibu rum', '1 oz '], 'Jello shots': ['Vodka', '2 cups ', 'Jello', '3 packages ', 'Water', '3 cups '], 'Banana Milk Shake': ['Milk', '10 cl cold ', 'Orange juice', '4 cl ', 'Sugar syrup', '2 tsp ', 'Banana', '1/2 '], 'Thai Iced Tea': ['Tea', '1/4 cup Thai ', 'Water', '1/2 cup boiling ', 'Condensed milk', '2 tsp sweetened ', 'Ice', ' cubes\\n', 'Mint'], 'Abbey Cocktail': ['Gin', '1 1/2 oz ', 'Orange bitters', '1 dash ', 'Orange', 'Juice of 1/4 ', 'Cherry', '1 '], 'Avalanche': ['Crown Royal', '1 shot ', 'Kahlua', '1 shot ', 'Cream', 'Fill with '], 'A Day at the Beach': ['Coconut rum', '1 oz ', 'Amaretto', '1/2 oz ', 'Orange juice', '4 oz ', 'Grenadine', '1/2 oz '], 'English Rose Cocktail': ['Apricot brandy', '3/4 oz ', 'Gin', '1 1/2 oz ', 'Dry Vermouth', '3/4 oz ', 'Grenadine', '1 tsp ', 'Lemon juice', '1/4 tsp ', 'Cherry', '1 '], 'San Francisco': ['Vodka', '2 cl ', 'Creme de Banane', '2 cl ', 'Grenadine', 'Orange juice'], 'Miami Vice': ['151 proof rum', '5 oz Bacardi ', 'Pina colada mix', 'frozen ', 'Daiquiri mix', 'frozen '], 'Bramble': ['Gin', '4 cl', 'lemon juice', '1.5 cl', 'Sugar syrup', '1 cl', 'Creme de Mure', '1.5 cl'], 'Bellini Martini': ['Ice', '8 cubes ', 'Vodka', '3 oz ', 'Peach nectar', '1.5 oz ', 'Peach schnapps', '1.5 oz ', 'Lemon peel', '1 '], 'Corpse Reviver #2': ['Gin', '3/4 oz', 'Triple Sec', '3/4 oz', 'Lillet Blanc', '3/4 oz', 'Lemon Juice', '3/4 oz', 'Absinthe', '1 dash'], 'Dry Rob Roy': ['Scotch', '2 1/2 oz ', 'Dry Vermouth', '1 1/2 tsp ', 'Lemon peel', '1 twist of '], 'Rum Sour': ['Light rum', '2 oz ', 'Lemon juice', '1 oz ', 'Sugar', '1/2 tsp superfine ', 'Orange', '1 ', 'Maraschino cherry', '1 '], 'Artillery Punch': ['Tea', '1 quart black ', 'Rye whiskey', '1 quart ', 'Red wine', '1 fifth ', 'Rum', '1 pint Jamaican ', 'Brandy', '1/2 pint ', 'Benedictine', '1 1/2 oz ', 'Orange juice', '1 pint ', 'Lemon juice', '1/2 pint '], 'Malibu Twister': ['Malibu rum', '2 parts ', 'Tropicana', '2 parts ', 'Cranberry juice', '1 part '], 'Casino': ['Gin', '2 oz ', 'Maraschino liqueur', '1/4 tsp ', 'Lemon juice', '1/4 tsp ', 'Orange bitters', '2 dashes ', 'Cherry', '1 '], 'Highland Fling Cocktail': ['Scotch', '1 1/2 oz ', 'Sweet Vermouth', '3/4 oz ', 'Orange bitters', '2 dashes ', 'Olive', '1 '], 'Alice Cocktail': ['Grenadine', '1 cl ', 'Orange juice', '1 cl ', 'Pineapple juice', '2 cl ', 'Cream', '4 cl '], 'Pina Colada': ['Light rum', '3 oz ', 'Coconut milk', '3 tblsp ', 'Pineapple', '3 tblsp '], 'Queen Elizabeth': ['Dry Vermouth', '1/2 oz ', 'Gin', '1 1/2 oz ', 'Benedictine', '1 1/2 tsp '], 'Quentin': ['Dark rum', '1 1/2 oz ', 'Kahlua', '1/2 oz ', 'Light cream', '1 oz ', 'Nutmeg', '1/8 tsp grated '], 'Brave Bull Shooter': ['Tequila', '1/2 oz ', 'Tabasco sauce', '1/2 oz '], 'Aztec Punch': ['Lemonade', '1 can ', 'Vodka', '5 oz ', 'Rum', '7 oz ', 'Ginger ale', 'About 1 bottle '], 'A Piece of Ass': ['Amaretto', '1 shot ', 'Southern Comfort', '1 shot ', 'Ice', ' cubes\\n', 'Sour mix'], 'Americano': ['Campari', '1 oz ', 'Sweet Vermouth', '1 oz red ', 'Lemon peel', 'Twist of ', 'Orange peel', 'Twist of '], 'Chicago Fizz': ['Light rum', '1 oz ', 'Port', '1 oz ', 'Lemon', 'Juice of 1/2 ', 'Powdered sugar', '1 tsp ', 'Egg white', '1 ', 'Carbonated water'], 'Daiquiri': ['Light rum', '1 1/2 oz ', 'Lime', 'Juice of 1/2 ', 'Powdered sugar', '1 tsp '], 'Cherry Rum': ['Light rum', '1 1/4 oz ', 'Cherry brandy', '1 1/2 tsp ', 'Light cream', '1 tblsp '], 'Zipperhead': ['Chambord raspberry liqueur', '1 shot ', 'Vodka', '1 shot ', 'Soda water', 'Fill with '], 'Port And Starboard': ['Grenadine', '1 tblsp ', 'Green Creme de Menthe', '1/2 oz '], '151 Florida Bushwacker': ['Malibu rum', '1/2 oz ', 'Light rum', '1/2 oz ', '151 proof rum', '1/2 oz Bacardi ', 'Dark Creme de Cacao', '1 oz ', 'Cointreau', '1 oz ', 'Milk', '3 oz ', 'Coconut liqueur', '1 oz ', 'Vanilla ice-cream', '1 cup '], 'Absolutely Cranberry Smash': ['Absolut Vodka', '2 oz ', 'Cranberry juice', '4 oz ', 'Ginger ale', '2 oz ', 'Ice', 'Add '], 'National Aquarium': ['Rum', '1/2 oz ', 'Vodka', '1/2 oz ', 'Gin', '1/2 oz ', 'Blue Curacao', '1/2 oz ', 'Sour mix', '2 oz ', 'Lemon-lime soda', '1 splash '], 'Strawberry Lemonade': ['Lemon', 'Juice of 1 ', 'Sugar', '1 tblsp ', 'Strawberries', '8-10 ripe ', 'Water', '1 cup '], 'Cuba Libra': ['Dark rum', '1-2 shot ', 'Lime', 'Squeeze ', 'Coca-Cola', 'Fill with ', 'Ice'], 'Arizona Stingers': ['Absolut Vodka', '2 shots ', 'Iced tea', '12 oz lemon '], 'Gin Rickey': ['Gin', '2 oz ', 'Grenadine', '1 tsp ', 'lemon', 'Juice of 1/2 ', 'Soda Water', 'Top up with', 'Lime', 'Garnish'], 'Red Snapper': ['Crown Royal', '1 shot ', 'Amaretto', '1 shot ', 'Cranberry juice', '1 shot '], 'Gimlet': ['Gin', '2 1/2 oz', 'Lime Juice', '1/2 oz', 'Sugar Syrup', '1/2 oz', 'Lime', '1'], 'Quarter Deck Cocktail': ['Light rum', '1 1/2 ', 'Sherry', '1/3 oz cream ', 'Lime', 'Juice of 1/2 '], 'Talos Coffee': ['Grand Marnier', '3 parts ', 'Coffee', '1 part '], 'Lunch Box': ['Beer', '3/4 bottle ', 'Amaretto', '1 shot ', 'Orange juice', '1 oz '], 'Brandy Cobbler': ['Sugar', '1 tsp superfine ', 'Club soda', '3 oz ', 'Lemon', '1 ', 'Brandy', '2 oz ', 'Maraschino cherry', '1 ', 'Orange', '1 '], 'Shot-gun': ['Jim Beam', '1 part ', 'Jack Daniels', '1 part ', 'Wild Turkey', '1 oz '], 'Rose': ['Dry Vermouth', '1/2 oz ', 'Gin', '1 oz ', 'Apricot brandy', '1/2 oz ', 'Lemon juice', '1/2 tsp ', 'Grenadine', '1 tsp ', 'Powdered sugar'], 'Limona Corona': ['Corona', '1 bottle ', 'Bacardi Limon', '1 oz '], 'Dragonfly': ['Gin', '1 1/2 oz ', 'Ginger ale', '4 oz ', 'Lime', '1 '], 'New York Sour': ['Blended whiskey', '2 oz ', 'Lemon', 'Juice of 1/2 ', 'Sugar', '1 tsp ', 'Red wine', ' (Claret)\\n', 'Lemon', 'Cherry'], 'Zorro': ['Sambuca', '2 cl ', \"Bailey's irish cream\", '2 cl ', 'White Creme de Menthe', '2 cl '], 'After Five': ['Peppermint schnapps', 'Kahlua', \"Bailey's irish cream\"], 'Brandy Alexander': ['Brandy', '1 oz ', 'Creme de Cacao', '1 oz white ', 'Light cream', '1 oz ', 'Nutmeg'], 'Artillery': ['Sweet Vermouth', '1 1/2 tsp ', 'Gin', '1 1/2 oz ', 'Bitters', '2 dashes '], 'Bumble Bee #1': [\"Bailey's irish cream\", '1/3 oz ', 'Kahlua', '1/3 oz ', 'Sambuca', '1/3 oz '], 'Fuzzy Asshole': ['Coffee', '1/2 ', 'Peach schnapps', '1/2 '], 'Addington': ['Sweet Vermouth', '2 shots ', 'Dry Vermouth', '1 shot ', 'Soda Water', 'Top up with\\r\\n'], 'Bruised Heart': ['Vodka', '1/2 oz ', 'Chambord raspberry liqueur', '1/2 oz ', 'Peachtree schnapps', '1/2 oz ', 'Cranberry juice', '1/2 oz '], 'White Russian': ['Vodka', '2 oz ', 'Coffee liqueur', '1 oz ', 'Light cream'], 'Casino Royale': ['Gin', '2 oz ', 'Lemon juice', '1/2 oz ', 'Maraschino liqueur', '1 tsp ', 'Orange bitters', '1 dash ', 'Egg yolk', '1 '], 'French Connection': ['Cognac', '1 1/2 oz ', 'Amaretto', '3/4 oz '], 'Sol Y Sombra': ['Brandy', '1 1/2 oz ', 'Anisette', '1 1/2 oz '], \"Owen's Grandmother's Revenge\": ['Whiskey', '12 oz ', 'Beer', '12 oz ', 'Lemonade', '12 oz frozen ', 'Ice', '1 cup crushed '], 'Lemon Shot': ['Galliano', '1/2 oz ', 'Absolut Citron', '1/2 oz ', 'Lemon', ' wedge\\n', 'Sugar', 'Bacardi ', '151 proof rum'], 'Irish Coffee': ['Irish whiskey', '1 1/2 oz ', 'Coffee', '8 oz ', 'Sugar', '1 tsp ', 'Whipped cream', '1 tblsp '], 'Cranberry Cordial': ['Cranberries', '1/2 kg chopped ', 'Sugar', '3/4 L ', 'Light rum', '1/2 L '], 'Turf Cocktail': ['Dry Vermouth', '1 oz ', 'Gin', '1 oz ', 'Anis', '1/4 tsp ', 'Bitters', '2 dashes ', 'Orange peel', 'Twist of '], 'Sweet Tooth': ['Godiva liqueur', '2 shots ', 'Milk'], 'Frozen Mint Daiquiri': ['Light rum', '2 oz ', 'Lime juice', '1 tblsp ', 'Mint', '6 ', 'Sugar', '1 tsp '], 'Rusty Nail': ['Scotch', '1 1/2 oz ', 'Drambuie', '1/2 oz ', 'Lemon peel', '1 twist of '], 'Cuba Libre': ['Light rum', '2 oz ', 'Lime', 'Juice of 1/2 ', 'Coca-Cola'], 'Mojito #3': ['Mint', '1/2 handful ', 'Lemon juice', '3 cl ', 'Dark rum', '1/8 L Jamaican ', 'Club soda', '1/8 L ', 'Angostura bitters', '8 drops '], 'Sunny Holiday Punch': ['Pineapple juice', '46 oz chilled ', 'Club soda', '28 oz ', 'Orange juice', '6 oz frozen ', 'Lemon', '1 ', 'Berries', '2 cups ', 'Champagne', '1 bottle '], 'Royal Bitch': ['Frangelico', '1 part ', 'Crown Royal', '1 part '], 'Afterglow': ['Grenadine', '1 part ', 'Orange juice', '4 parts ', 'Pineapple juice', '4 parts '], 'Microwave Hot Cocoa': ['Sugar', '5 tblsp ', 'Cocoa powder', '3 tblsp ', 'Salt', '1 dash ', 'Water', '3 tblsp hot ', 'Milk', '2 cups ', 'Vanilla extract', '1/4 tsp '], 'Herbal flame': ['Hot Damn', '5 shots ', 'Tea', 'very sweet '], '501 Blue': ['Blue Curacao', 'Blueberry schnapps', 'Vodka', 'Sour mix', '7-Up'], 'Veteran': ['Dark rum', '2 oz ', 'Cherry brandy', '1/2 oz '], 'Van Vleet': ['Light rum', '3 oz ', 'Maple syrup', '1 oz ', 'Lemon juice', '1 oz '], 'Grass Skirt': ['Gin', '1 1/2 oz ', 'Triple sec', '1 oz ', 'Pineapple juice', '1 oz ', 'Grenadine', '1/2 tsp ', 'Pineapple', '1 '], 'Applecar': ['Applejack', '1 oz ', 'Triple sec', '1 oz ', 'Lemon juice', '1 oz '], 'Almond Chocolate Coffee': ['Amaretto', '3/4 oz ', 'Dark Creme de Cacao', '1/2 oz ', 'Coffee', '8 oz '], 'Shark Attack': ['Lemonade', '1 can ', 'Water', '3 cans ', 'Vodka', '1 1/2 cup '], 'Blue Margarita': ['Tequila', '1 1/2 oz ', 'Blue Curacao', '1 oz ', 'Lime juice', '1 oz ', 'Salt', 'Coarse '], 'Absolut Sex': ['Absolut Kurant', '3/4 oz ', 'Midori melon liqueur', '3/4 oz ', 'Cranberry juice', '1 oz ', 'Sprite', '1 splash '], 'Imperial Fizz': ['Light rum', '1/2 oz ', 'Blended whiskey', '1 1/2 oz ', 'Lemon', 'Juice of 1/2 ', 'Powdered sugar', '1 tsp ', 'Carbonated water'], 'Tequila Sunrise': ['Tequila', '2 measures ', 'Orange juice', 'Grenadine'], 'Banana Daiquiri': ['Light rum', '1 1/2 oz ', 'Triple sec', '1 tblsp ', 'Banana', '1 ', 'Lime juice', '1 1/2 oz ', 'Sugar', '1 tsp ', 'Cherry', '1 '], 'Grand Blue': ['Malibu rum', '1 1/2 cl ', 'Peach schnapps', '1 1/2 cl ', 'Blue Curacao', '1 1/2 cl ', 'Sweet and sour', '3 cl '], 'Adonis Cocktail': ['Sweet Vermouth', '3/4 oz ', 'Sherry', '1 1/2 oz dry ', 'Orange bitters', '1 dash '], 'Brigadier': ['Hot Chocolate', '4 oz', 'Green Chartreuse', '1 oz', 'Cherry Heering', '1 oz'], 'Brain Fart': ['Everclear', '1 fifth ', 'Vodka', '1 fifth Smirnoff red label ', 'Mountain Dew', '2 L ', 'Surge', '2 L ', 'Lemon juice', '1 small bottle ', 'Rum', '1 pint '], 'Radler': ['Beer', '12 oz ', '7-Up', '12 oz '], 'Mocha-Berry': ['Coffee', '6 oz ', 'Chambord raspberry liqueur', '2 oz ', 'Cocoa powder', '2 tblsp ', 'Whipped cream'], 'AT&amp;T;': ['Absolut Vodka', '1 oz ', 'Gin', '1 oz ', 'Tonic water', '4 oz '], \"Hunter's Moon\": ['Vermouth', '25 ml', 'Maraschino Cherry', '15 ml', 'Sugar Syrup', '10 ml', 'Lemonade', '100 ml', 'Blackberries', '2'], 'Rum Runner': ['Malibu rum', '1 1/2 oz ', 'Blackberry brandy', '1 oz ', 'Orange juice', '3-4 oz ', 'Pineapple juice', '3-4 oz ', 'Cranberry juice', '3-4 oz '], 'Space Odyssey': ['151 proof rum', '1 shot Bacardi ', 'Malibu rum', '1 shot ', 'Pineapple juice', '1 shot ', 'Orange juice', 'Grenadine', 'Cherries'], 'Cranberry Punch': ['Cranberry juice', '4 cups ', 'Sugar', '1 1/2 cup ', 'Pineapple juice', '4 cups ', 'Almond flavoring', '1 tblsp ', 'Ginger ale', '2 qt '], 'Thriller': ['Scotch', '1 1/2 oz ', 'Wine', '1 oz Green Ginger ', 'Orange juice', '1 oz '], 'Strawberry Margarita': ['Strawberry schnapps', '1/2 oz ', 'Tequila', '1 oz ', 'Triple sec', '1/2 oz ', 'Lemon juice', '1 oz ', 'Strawberries', '1 oz ', 'Salt'], 'Strawberry Shivers': ['Strawberries', '1 1/2 cup ', 'Honey', '4 tsp ', 'Water', '1/2 cup '], \"Quaker's Cocktail\": ['Light rum', '3/4 oz ', 'Brandy', '3/4 oz ', 'Lemon', 'Juice of 1/4 ', 'Raspberry syrup', '2 tsp '], 'A True Amaretto Sour': ['Amaretto', '1 jigger ', 'Lemon', 'Juice of 1/2 ', 'Ice', 'Maraschino cherry'], 'A.D.M. (After Dinner Mint)': ['White Creme de Menthe', '1/2 oz ', 'Southern Comfort', '3/4 oz ', 'Vodka', '1/2 oz ', 'Hot chocolate', 'Fill with '], 'Almond Joy': ['Amaretto', '1/2 oz ', 'Creme de Cacao', '1/2 oz white ', 'Light cream', '2 oz '], 'Old Fashioned': ['Bourbon', '4.5 cL', 'Angostura bitters', '2 dashes', 'Sugar', '1 cube', 'Water', 'dash'], 'Amaretto Stone Sour': ['Amaretto', '1 part ', 'Sour mix', '1 part ', 'Orange juice', '1 part '], 'Adam Bomb': ['Rum', '1 part ', 'Vodka', '1 part ', 'Tequila', '1 part ', 'Triple sec', '1/2 part ', 'Fruit', 'Ice', 'Salt', '1-3 pint ', 'Fruit juice'], 'Moranguito': ['Absinthe', '2/5 ', 'Tequila', '2/5 ', 'Grenadine', '1/5 '], 'Diesel': ['Lager', '1/2 pint ', 'Cider', '1/2 pint ', 'Blackcurrant cordial', '1 dash '], 'Smut': ['Red wine', '1/3 part ', 'Peach schnapps', '1 shot ', 'Pepsi Cola', '1/3 part ', 'Orange juice', '1/3 part '], 'California Root Beer': ['Kahlua', '3/4 oz ', 'Galliano', '3/4 oz ', 'Soda water', 'Fill with '], 'Irish Cream': ['Scotch', '1 cup ', 'Half-and-half', '1 1/4 cup ', 'Condensed milk', '1 can sweetened ', 'Coconut syrup', '3 drops ', 'Chocolate syrup', '1 tblsp '], 'Apple Grande': ['Tequila', '3 oz ', 'Apple cider', '12 oz '], 'Screaming Orgasm': ['Vodka', '1 oz ', \"Bailey's irish cream\", '1 1/2 oz ', 'Kahlua', '1/2 oz '], 'Amaretto Rose': ['Amaretto', '1 1/2 oz ', 'Lime juice', '1/2 oz ', 'Club soda'], 'Lassi Raita': ['Yoghurt', '2 cups ', 'Ice', '4-6 ', 'Sugar', 'Lime', 'Salt'], 'Godchild': ['Vodka', '1 oz ', 'Amaretto', '1 oz ', 'Heavy cream', '1 oz '], 'Big Red': ['Irish cream', '1/2 oz ', 'Goldschlager', '1/2 oz '], 'Absolut limousine': ['Absolut Citron', '2/3 ', 'Lime juice', '1/3 ', 'Ice', 'Fill with ', 'Tonic water', 'Top it up with '], 'Amaretto Liqueur': ['Sugar', '1 cup', 'Water', '3/4 cup ', 'Apricot', '2 ', 'Almond flavoring', '1 tblsp ', 'Grain alcohol', '1/2 cup pure ', 'Water', '1/2 cup ', 'Brandy', '1 cup ', 'Food coloring', '3 drops yellow ', 'Food coloring', '6 drops red ', 'Food coloring', '2 drops blue ', 'Glycerine', '1/2 tsp '], 'Boomerang': ['Gin', '2 oz ', 'Dry Vermouth', '1/2 oz ', 'Bitters', '2 dashes ', 'Maraschino liqueur', '1/2 tsp ', 'Maraschino cherry', '1 '], 'Army special': ['Vodka', '30 ml ', 'Gin', '30 ml ', 'Lime juice cordial', '45 ml ', 'Ice', '1/2 glass crushed '], 'Bloody Mary': ['Vodka', '1 1/2 oz ', 'Tomato juice', '3 oz ', 'Lemon juice', '1 dash ', 'Worcestershire sauce', '1/2 tsp ', 'Tabasco sauce', '2-3 drops ', 'Lime', '1 wedge '], 'Amaretto Tea': ['Tea', '6 oz hot ', 'Amaretto', '2 oz ', 'Whipped cream', 'Chilled '], 'Vesper': ['Gin', '6 cl', 'Vodka', '1.5 cl', 'Lillet Blanc', '0.75 cl'], 'Atlantic Sun': ['Vodka', '2 cl Smirnoff ', 'Southern Comfort', '2 cl ', 'Passion fruit syrup', '2 cl ', 'Sweet and sour', '6 cl ', 'Club soda', '1 dash '], 'Orange Scented Hot Chocolate': ['Milk', '2 cups ', 'Chocolate', '4 oz chopped bittersweet or semi-sweet ', 'Orange peel', '3 2-inch strips ', 'Espresso', '1/2 tsp instant ', 'Nutmeg', '1/8 tsp ground '], 'Banana Strawberry Shake': ['Strawberries', '1/2 lb frozen ', 'Banana', '1 frozen ', 'Yoghurt', '1 cup plain ', 'Milk', '1 cup ', 'Honey', ' to taste\\n'], 'Fruit Shake': ['Yoghurt', '1 cup fruit ', 'Banana', '1 ', 'Orange juice', '4 oz frozen ', 'Fruit', '1/2 piece textural ', 'Ice', '6 '], 'Vesuvio': ['Light rum', '1 oz ', 'Sweet Vermouth', '1/2 oz ', 'Lemon', 'Juice of 1/2 ', 'Powdered sugar', '1 tsp ', 'Egg white', '1 '], 'Tomato Tang': ['Tomato juice', '2 cups ', 'Lemon juice', '1-2 tblsp ', 'Celery salt', '1 dash '], 'Rum Toddy': ['Rum', '2 oz light or dark ', 'Powdered sugar', '2 tsp ', 'Lemon peel', '1 twist of ', 'Water', '2 tsp '], 'Moscow Mule': ['Vodka', '2 oz ', 'Lime juice', '2 oz ', 'Ginger ale', '8 oz '], 'Orgasm': ['Creme de Cacao', '1/2 oz white ', 'Amaretto', '1/2 oz ', 'Triple sec', '1/2 oz ', 'Vodka', '1/2 oz ', 'Light cream', '1 oz '], 'Banana Strawberry Shake Daiquiri-type': ['Strawberries', '1/2 lb frozen ', 'Banana', '1 frozen ', 'Apple juice', '2 cups fresh '], 'Paloma': ['Grape Soda', '3 oz', 'Tequila', '1 1/2 oz'], 'Belgian Blue': ['Vodka', '2 cl ', 'Coconut liqueur', '1 cl ', 'Blue Curacao', '1 cl ', 'Sprite', 'Fill with '], '410 Gone': ['Peach Vodka', '2-3 oz', 'Coca-Cola'], 'Champagne Cocktail': ['Champagne', 'Chilled ', 'Sugar', '1 piece ', 'Bitters', '2 dashes ', 'Lemon peel', '1 twist of ', 'Cognac', '1 dash'], 'Sangria #1': ['Red wine', '1 bottle ', 'Sugar', '1/2 cup ', 'Orange juice', '1 cup ', 'Lemon juice', '1 cup ', 'Cloves', 'Cinnamon'], 'Grape lemon pineapple Smoothie': ['Grapes', '1 cup ', 'Lemon', '1/4 ', 'Pineapple', '1/2 '], 'Casa Blanca': ['Light rum', '2 oz ', 'Triple sec', '1 1/2 tsp ', 'Lime juice', '1 1/2 tsp ', 'Maraschino liqueur', '1 1/2 tsp '], 'Tequila Surprise': ['Tequila', 'full glass ', 'Tabasco sauce', 'About 8 drops '], 'Greyhound': ['Vodka', '1 1/2 oz', 'Grapefruit Juice', '3 oz'], 'Blind Russian': [\"Bailey's irish cream\", '3/4 oz ', 'Godiva liqueur', '3/4 oz ', 'Kahlua', '3/4 oz ', 'Butterscotch schnapps', '1/2 oz ', 'Milk', ' to fill\\n'], 'Port Wine Cocktail': ['Port', '2 1/2 oz ', 'Brandy', '1/2 tsp '], 'Cherry Electric Lemonade': ['Gin', '1 oz', 'Tequila', '1 oz', 'Vodka', '1 oz', 'White rum', '1 oz', 'Triple Sec', '1 oz', 'Cherry Grenadine', '1 oz', 'Sweet and sour', '1 oz', 'Club soda', '3 oz'], 'Screwdriver': ['Vodka', '2 oz ', 'Orange juice'], 'Classic Old-Fashioned': ['Bitters', '3 dashes ', 'Water', '1 tsp ', 'Sugar', '1 ', 'Bourbon', '3 oz ', 'Orange', '1 ', 'Maraschino cherry', '1 '], 'Mudslinger': ['Southern Comfort', '750 ml ', 'Orange juice', '1 L ', 'Pepsi Cola', '750 ml '], 'Mint Julep': ['Mint', '4 fresh ', 'Bourbon', '2 1/2 oz ', 'Powdered sugar', '1 tsp ', 'Water', '2 tsp '], 'City Slicker': ['Brandy', '2 oz ', 'Triple sec', '1/2 oz ', 'Lemon juice', '1 tblsp '], 'Homemade Kahlua': ['Sugar', '2 1/2 cups ', 'Corn syrup', '1 cup ', 'Coffee', '1 1/2 oz instant ', 'Vanilla extract', '2 oz ', 'Water', '3 cups boiling ', 'Vodka', '1 fifth '], 'Atomic Lokade': ['Lemonade', '5 oz ', 'Vodka', '1 oz ', 'Blue Curacao', '1/2 oz ', 'Triple sec', '1/2 oz ', 'Sugar', 'Ice'], 'Zambeer': ['Sambuca', '1 1/2 oz ', 'Root beer', 'Add 10 oz ', 'Ice', ' cubes\\n'], 'Kiwi Lemon': ['Kiwi liqueur', '1 part ', 'Bitter lemon', '2 parts ', 'Ice', ' cubes\\n'], 'Baby Eskimo': ['Kahlua', '2 oz ', 'Milk', '8 oz ', 'Vanilla ice-cream', '2 scoops '], 'Blackthorn': ['Sweet Vermouth', '1 oz ', 'Sloe gin', '1 1/2 oz ', 'Lemon peel', '1 twist of '], 'After Dinner Cocktail': ['Apricot brandy', '1 oz ', 'Triple sec', '1 oz ', 'Lime', 'Juice of 1 ', 'Lime', '1 '], 'Algonquin': ['Blended whiskey', '1 1/2 oz ', 'Dry Vermouth', '1 oz ', 'Pineapple juice', '1 oz '], 'Thai Coffee': ['Coffee', '6 tblsp ground', 'Coriander', '1/4 tsp ', 'Cardamom', '4-5 whole green ', 'Sugar', 'Whipping cream', 'Ice'], 'Kiss me Quick': ['Cranberry vodka', '4 cl ', 'Apfelkorn', '2 cl ', 'Schweppes Russchian', '7 cl ', 'Apple juice', '8 cl ', 'Ice', ' cubes\\n'], 'Flaming Lamborghini': ['Kahlua', '1 oz ', 'Sambuca', '1 oz ', 'Blue Curacao', '1 oz ', \"Bailey's irish cream\", '1 oz '], 'Between The Sheets': ['Brandy', '1 oz ', 'Light rum', '1 oz ', 'Triple sec', '1 oz ', 'Lemon juice', '1 oz '], 'Foxy Lady': ['Amaretto', '1/2 oz ', 'Creme de Cacao', '1/2 oz ', 'Light cream', '2 oz '], 'Arctic Fish': ['Vodka', '1/3 part ', 'Grape soda', '1/3 part ', 'Orange juice', '1/3 part ', 'Ice', 'lots ', 'Candy', '1 dash '], '110 in the shade': ['Lager', '16 oz ', 'Tequila', '1.5 oz '], \"A Gilligan's Island\": ['Vodka', '1 oz ', 'Peach schnapps', '1 oz ', 'Orange juice', '3 oz ', 'Cranberry juice', '3 oz '], 'Gin Swizzle': ['Lime juice', '1 1/2 oz ', 'Sugar', '1 tsp superfine ', 'Gin', '2 oz ', 'Bitters', '1 dash ', 'Club soda', '3 oz '], 'Absolut Evergreen': ['Absolut Citron', '2/3 part ', 'Pisang Ambon', '1/3 part ', 'Ice', ' cubes\\n', 'Bitter lemon'], 'Buccaneer': ['Corona', '1 ', 'Bacardi Limon', '1 shot '], 'The Laverstoke': ['Gin', '50 ml', 'Elderflower cordial', '15 ml', 'Rosso Vermouth', '15 ml', 'Tonic Water', '75 ml', 'Lime', '2 Wedges', 'Ginger', '1 Slice', 'Mint', '1 Large Sprig'], 'The Last Word': ['Green Chartreuse', '1 oz', 'Maraschino Liqueur', '1 oz', 'Lime Juice', '1 oz'], 'Downshift': ['Fruit punch', '2 part ', 'Sprite', '1 part ', 'Tequila', '2 shots ', '151 proof rum', 'Float Bacardi '], 'Gin Smash': ['Gin', '2 oz ', 'Carbonated water', '1 oz ', 'Sugar', '1 cube ', 'Mint', '4 ', 'Orange', '1 slice ', 'Cherry', '1 '], 'Imperial Cocktail': ['Lime juice', '4 cl ', 'Gin', '2 cl ', 'Aperol', '4 cl '], 'Derby': ['gin', '6 cl', 'Peach Bitters', '2 dashes', 'Mint', '2 Fresh leaves'], 'Zoksel': ['Beer', 'Root beer', 'Lemonade', 'Coca-Cola', ' slice\\n', '7-Up', 'Creme de Cassis', 'Lemon'], 'Fruit Flip-Flop': ['Yoghurt', '1 cup ', 'Fruit juice', '1 cup '], 'Paradise': ['Gin', '7 parts', 'Apricot Brandy', '4 parts', 'Orange Juice', '3 parts '], 'Amaretto Stinger': ['Amaretto', '1 1/2 oz ', 'White Creme de Menthe', '3/4 oz '], 'Zenmeister': ['Jägermeister', '1/2 oz ', 'Root beer', '1/2 oz '], 'Auburn Headbanger': ['Jägermeister', '1 oz ', 'Goldschlager', '1 oz '], 'Strawberry Daiquiri': ['Strawberry schnapps', '1/2 oz ', 'Light rum', '1 oz ', 'Lime juice', '1 oz ', 'Powdered sugar', '1 tsp ', 'Strawberries', '1 oz '], 'Happy Skipper': ['Spiced rum', '1 1/2 cl ', 'Ginger ale', 'Lime', 'Ice'], 'Addison Special': ['Vodka', '1 shot ', 'Grenadine', '1 tblsp ', 'Orange juice', 'Fill with '], 'Pysch Vitamin Light': ['Orange juice', '1 part ', 'Apple juice', '1 part ', 'Pineapple juice', '1 part ', 'Ice'], 'Quick-sand': ['Black Sambuca', '25 ml ', 'Orange juice', 'Add 250 ml '], 'Kurant Tea': ['Absolut Kurant', '4 cl ', 'Tea', 'Turkish apple ', 'Sugar', ' (if needed)\\n'], 'Melya': ['Espresso', 'Honey', 'Unsweetened ', 'Cocoa powder'], 'Poppy Cocktail': ['Gin', '1 1/2 oz ', 'Creme de Cacao', '3/4 oz white '], 'Midnight Mint': [\"Bailey's irish cream\", '1 oz ', 'White Creme de Menthe', '3/4 oz ', 'Cream', '3/4 oz double '], 'Blue Mountain': ['Añejo rum', '1 1/2 oz ', 'Tia maria', '1/2 oz ', 'Vodka', '1/2 oz ', 'Orange juice', '1 oz ', 'Lemon juice', '1 tsp '], \"Gentleman's Club\": ['Gin', '1 1/2 oz ', 'Brandy', '1 oz ', 'Sweet Vermouth', '1 oz ', 'Club soda', '1 oz '], 'Aviation': ['Gin', '4.5 cl', 'lemon juice', '1.5 cl', 'maraschino liqueur', '1.5 cl'], 'Martinez 2': ['Gin', '1 1/2 oz', 'Sweet Vermouth', '1 1/2 oz', 'Maraschino Liqueur', '1 tsp', 'Angostura Bitters', '2 dashes'], 'Arise My Love': ['Champagne', 'Chilled ', 'Green Creme de Menthe', '1 tsp '], 'Godfather': ['Scotch', '1 1/2 oz ', 'Amaretto', '3/4 oz '], 'Yoghurt Cooler': ['Yoghurt', '1 cup ', 'Fruit', '1 cup ', 'Ice'], 'Boozy Snickers Milkshake': ['Vanilla Ice-Cream', '3 cups ', 'Milk', '1 cup ', 'Godiva liqueur', '1/2 cup ', 'Whipped Cream', 'for topping', 'caramel sauce', '4 tablespoons\\r\\n', 'chocolate sauce', '4 tablespoons\\r\\n', 'Mini-snickers bars', '15\\r\\n'], 'Caribbean Orange Liqueur': ['Orange', '3 large ', 'Vodka', '3 cups ', 'Sugar', '1 1/3 cup superfine '], 'Valencia Cocktail': ['Apricot brandy', '1 1/2 oz ', 'Orange juice', '1 tblsp ', 'Orange bitters', '2 dashes '], 'Flying Scotchman': ['Scotch', '1 oz ', 'Sweet Vermouth', '1 oz ', 'Bitters', '1 dash ', 'Sugar syrup', '1/4 tsp '], 'Yellow Bird': ['White Rum', '3 cl', 'Galliano', '1.5 cl', 'Triple Sec', '1.5 cl', 'Lime Juice', '1.5 cl'], 'Rum Cooler': ['Rum', '2 oz light or dark ', 'Lemon-lime soda', '4 oz ', 'Lemon', '1 '], 'Long Island Tea': ['Vodka', '1/2 oz ', 'Light rum', '1/2 oz ', 'Gin', '1/2 oz ', 'Tequila', '1/2 oz ', 'Lemon', 'Juice of 1/2 ', 'Coca-Cola', '1 splash '], 'Orange Crush': ['Vodka', '1 oz ', 'Triple sec', '1 oz ', 'Orange juice', '1 oz '], 'Clove Cocktail': ['Sweet Vermouth', '1 oz ', 'Sloe gin', '1/2 oz ', 'Wine', '1/2 oz Muscatel '], 'Kill the cold Smoothie': ['Ginger', '1 inch ', 'Lemon', '1/4 ', 'Water', '1 cup hot '], 'Sloe Gin Cocktail': ['Sloe gin', '2 oz ', 'Dry Vermouth', '1/4 tsp ', 'Orange bitters', '1 dash '], 'Rum Punch': ['Rum', 'mikey bottle ', 'Ginger ale', 'large bottle ', 'Fruit punch', '355 ml frozen ', 'Orange juice', '355 ml frozen ', 'Ice', 'crushed '], 'Limeade': ['Lime', 'Juice of 1 ', 'Sugar', '1 tblsp ', 'Soda water', ' (seltzer water)\\n', 'Lime peel'], 'The Evil Blue Thing': ['Creme de Cacao', '1 1/2 oz ', 'Blue Curacao', '1 oz ', 'Light rum', '1/2 oz '], 'Popped cherry': ['Vodka', '2 oz ', 'Cherry liqueur', '2 oz ', 'Cranberry juice', '4 oz ', 'Orange juice', '4 oz '], 'Frisco Sour': ['Blended whiskey', '2 oz ', 'Benedictine', '1/2 oz ', 'Lemon', 'Juice of 1/4 ', 'Lime', 'Juice of 1/2 ', 'Lemon', '1 slice ', 'Lime', '1 slice '], 'Frappé': ['Coffee', '1/2 cup black ', 'Milk', '1/2 cup ', 'Sugar', '1-2 tsp '], 'Archbishop': ['Gin', '2 oz ', 'Wine', '1 oz Green Ginger ', 'Benedictine', '1 tsp ', 'Lime', '1 '], 'Martinez Cocktail': ['Gin', '1 oz ', 'Dry Vermouth', '1 oz ', 'Triple sec', '1/4 tsp ', 'Orange bitters', '1 dash ', 'Cherry', '1 '], 'Hot Chocolate to Die for': ['Chocolate', '12 oz fine ', 'Butter', '1 tsp ', 'Vanilla extract', '1/2 tsp ', 'Half-and-half', '1 cup ', 'Marshmallows', 'mini '], 'Alice in Wonderland': ['Amaretto', '1 shot ', 'Grand Marnier', '1 shot ', 'Southern Comfort', '1 shot '], 'Brandy Sour': ['Brandy', '2 oz ', 'Lemon', 'Juice of 1/2 ', 'Powdered sugar', '1/2 tsp ', 'Lemon', '1/2 slice ', 'Cherry', '1 '], 'Monkey Gland': ['Gin', '2 oz ', 'Benedictine', '1 tsp ', 'Orange juice', '1/2 oz ', 'Grenadine', '1 tsp '], 'Long vodka': ['Vodka', '5 cl ', 'Lime', '1/2 ', 'Angostura bitters', '4 dashes ', 'Tonic water', '1 dl Schweppes ', 'Ice', '4 '], 'Acapulco': ['Light rum', '1 1/2 oz ', 'Triple sec', '1 1/2 tsp ', 'Lime juice', '1 tblsp ', 'Sugar', '1 tsp ', 'Egg white', '1 ', 'Mint', '1 '], 'Ice Pick #1': ['Vodka', '1 1/2 oz ', 'Iced tea', '6 oz ', 'Lemon juice', ' to taste\\n'], \"Flander's Flake-Out\": ['Sambuca', '1/4 glass ', 'Sarsaparilla', '3/4 glass '], 'Surf City Lifesaver': ['Ouzo', '1 part ', \"Bailey's irish cream\", '1 part ', 'Gin', '2 parts ', 'Grand Marnier', '1/2 part '], 'Jamaica Kiss': ['Coffee liqueur', '1 shot ', 'Light rum', '1 shot Jamaican ', 'Ice', ' cubes\\n', 'Milk'], 'Mimosa': ['Champagne', 'Chilled ', 'Orange juice', '2 oz '], 'Apple Cider Punch #1': ['Apple cider', '4 qt ', 'Brown sugar', '1 cup ', 'Lemonade', '6 oz frozen ', 'Orange juice', '6 oz frozen ', 'Cloves', '6 whole ', 'Allspice', '6 whole ', 'Nutmeg', '1 tsp ground ', 'Cinnamon', '3 sticks '], 'Abilene': ['Dark rum', '1 1/2 oz ', 'Peach nectar', '2 oz ', 'Orange juice', '3 oz '], '24k nightmare': ['Goldschlager', '1/2 oz ', 'Jägermeister', '1/2 oz ', 'Rumple Minze', '1/2 oz ', '151 proof rum', '1/2 oz Bacardi '], 'White Lady': ['Gin', '4cl', 'Triple Sec', '3cl', 'Lemon Juice', '2cl'], 'Royal Gin Fizz': ['Gin', '2 oz ', 'Lemon', 'Juice of 1/2 ', 'Powdered sugar', '1 tsp ', 'Egg', '1 whole ', 'Carbonated water'], 'Kioki Coffee': ['Kahlua', '1 oz ', 'Brandy', '1/2 oz ', 'Coffee'], 'Pink Penocha': ['Everclear', '750 ml ', 'Vodka', '1750 ml ', 'Peach schnapps', '1750 ml ', 'Orange juice', '1 gal ', 'Cranberry juice', '1 gal '], 'Adam &amp; Eve': ['Gin', '1 shot ', 'Cognac', '1 shot ', 'Creme de Cassis', '1 shot ', 'Fresh Lemon Juice', '1/8 shot '], 'GG': ['Galliano', '2 1/2 shots ', 'Ginger ale', 'Ice'], 'Mary Pickford': ['Light rum', '1 1/2 oz ', 'Pineapple juice', '1 oz ', 'Maraschino liqueur', '1/2 tsp ', 'Grenadine', '1/2 tsp ', 'Maraschino cherry', '1 '], 'Havana Cocktail': ['Light rum', '1 oz ', 'Pineapple juice', '1 oz ', 'Lemon juice', '1 tsp '], 'Caipirinha': ['Sugar', '2 tsp', 'Lime', '1 ', 'Cachaca', '2 1/2 oz '], 'Texas Rattlesnake': ['Yukon Jack', '1 part ', 'Cherry brandy', '1/2 part ', 'Southern Comfort', '1 part ', 'Sweet and sour', '1 splash '], 'Lassi - Mango': ['Mango', '2 ', 'Yoghurt', '2 cups ', 'Sugar', '1/2 cup ', 'Water', '1 cup iced '], 'Whitecap Margarita': ['Ice', '1 cup ', 'Tequila', '2 oz ', 'Cream of coconut', '1/4 cup ', 'Lime juice', '3 tblsp fresh '], 'Bloody Maria': ['Tequila', '1 oz ', 'Tomato juice', '2 oz ', 'Lemon juice', '1 dash ', 'Tabasco sauce', '1 dash ', 'Celery salt', '1 dash ', 'Lemon', '1 slice '], 'Vodka Martini': ['Vodka', '1 1/2 oz ', 'Dry Vermouth', '3/4 oz ', 'Olive', '1 '], 'Gin Sling': ['Gin', '2 oz ', 'Lemon', 'Juice of 1/2 ', 'Powdered sugar', '1 tsp ', 'Water', '1 tsp ', 'Orange peel', 'Twist of '], 'Ipamena': ['Lime', '½', 'Brown sugar', '2 tsp', 'Passion fruit juice', '4 cl', 'Ginger ale', 'top up with', 'Ice', 'fill'], 'Avalon': ['Vodka', '3 parts', 'Pisang Ambon', '1 part ', 'Apple juice', '6 parts ', 'Lemon juice', '1 1/2 part ', 'Lemonade'], 'Allies Cocktail': ['Dry Vermouth', '1 oz ', 'Gin', '1 oz ', 'Kummel', '1/2 tsp '], 'Wine Punch': ['Red wine', '1 bottle ', 'Lemon', '2 ', 'Orange juice', '1 cup ', 'Orange', '3 ', 'Pineapple juice', '1 cup '], 'A. J.': ['Applejack', '1 1/2 oz ', 'Grapefruit juice', '1 oz '], \"Gideon's Green Dinosaur\": ['Dark rum', '1/2 oz ', 'Vodka', '1/2 oz ', 'Triple sec', '1/2 oz ', 'Tequila', '1/2 oz ', 'Melon liqueur', '1/2 oz ', 'Mountain Dew', 'Fill with '], 'Alaska Cocktail': ['Orange bitters', '2 dashes ', 'Gin', '1 1/2 oz ', 'Yellow Chartreuse', '3/4 oz ', 'Lemon peel', 'Twist of '], 'Gagliardo': ['Peach Vodka', '5 parts ', 'Lemon juice', '3 parts ', 'Galliano', '1 part ', 'Sirup of roses', '1 part '], 'Campari Beer': ['Lager', '1 bottle ', 'Campari', '1 1/2 cl '], 'Dark Caipirinha': ['demerara Sugar', '2 tsp ', 'Lime', '1', 'Cachaca', '2 1/2 oz'], 'Jackhammer': ['Jack Daniels', '1 oz ', 'Amaretto', '1 oz '], 'Fruit Cooler': ['Apple juice', '1 can frozen ', 'Strawberries', '1 cup ', 'Sugar', '2 tblsp ', 'Lemon', '1 ', 'Apple', '1 ', 'Soda water', '1 L ', 'Ice'], 'Ziemes Martini Apfelsaft': ['Vermouth', '4 cl ', 'Apple juice', '16 cl '], 'Jelly Bean': ['Blackberry brandy', '1 oz ', 'Anis', '1 oz '], 'Kentucky B And B': ['Bourbon', '2 oz ', 'Benedictine', '1/2 oz '], 'Gin Fizz': ['Gin', '2 oz ', 'Lemon', 'Juice of 1/2 ', 'Powdered sugar', '1 tsp ', 'Carbonated water'], 'Dirty Nipple': ['Kahlua', 'Sambuca', \"Bailey's irish cream\"], 'Sweet Bananas': ['Milk', '2 cups ', 'Banana', '1 ', 'Honey', '1 tblsp '], 'Balmoral': ['Scotch', '1 1/2 oz ', 'Sweet Vermouth', '1/2 oz ', 'Dry Vermouth', '1/2 oz ', 'Bitters', '2 dashes '], 'Loch Lomond': ['Scotch', '2 oz ', 'Drambuie', '1/2 oz ', 'Dry Vermouth', '1/2 oz ', 'Lemon peel', '1 twist of '], 'Singapore Sling': ['Cherry brandy', '1/2 oz ', 'Grenadine', '1/2 oz ', 'Gin', '1 oz ', 'Sweet and sour', '2 oz ', 'Carbonated water', 'Cherry'], 'Gluehwein': ['Red wine', '1 L ', 'Water', '125 ml ', 'Sugar', '60 gr ', 'Cinnamon', '1 ', 'Cloves', '3 ', 'Lemon peel', '1 tblsp '], 'Amaretto And Cream': ['Amaretto', '1 1/2 oz ', 'Light cream', '1 1/2 oz '], 'Manhattan': ['Sweet Vermouth', '3/4 oz ', 'Bourbon', '2 1/2 oz Blended ', 'Angostura bitters', 'dash ', 'Ice', '2 or 3 ', 'Maraschino cherry', '1 ', 'Orange peel', '1 twist of '], 'Thai Iced Coffee': ['Coffee', 'black', 'Sugar', 'Cream', ' pods\\n', 'Cardamom'], 'A Splash of Nash': ['Cranberry juice', '2 oz ', 'Soda water', '2 oz ', 'Midori melon liqueur', '0.5 oz ', 'Creme de Banane', '0.5 oz '], 'Apple Karate': ['Apple juice', '2 cups ', 'Carrot', '1 large '], \"Horse's Neck\": ['Lemon peel', '1 long strip ', 'Brandy', '2 oz ', 'Ginger ale', '5 oz ', 'Bitters', '2 dashes '], 'Victor': ['Gin', '1 1/2 oz ', 'Sweet Vermouth', '1/2 oz ', 'Brandy', '1/2 oz '], 'Harvey Wallbanger': ['Vodka', '1 oz ', 'Galliano', '1/2 oz ', 'Orange juice', '4 oz '], 'Cafe Savoy': ['Coffee', 'Milk', '1/2 oz ', 'Triple sec', '1/2 oz ', 'Brandy'], \"Tommy's Margarita\": ['Tequila', '4.5 cl', 'Lime Juice', '1.5 cl', 'Agave syrup', '2 spoons'], 'Swedish Coffee': ['Coffee', '1 cup', 'Aquavit', '4 cl ', 'Sugar', 'By taste '], 'H.D.': ['Whisky', '4 cl ', \"Bailey's irish cream\", '8 cl ', 'Coffee'], 'Angel Face': ['Apricot brandy', '1/2 oz ', 'Apple brandy', '1/2 oz ', 'Gin', '1 oz '], '69 Special': ['Gin', '2 oz dry ', '7-Up', '4 oz ', 'Lemon juice', '0.75 oz '], 'Irish Curdling Cow': [\"Bailey's irish cream\", '3/4 oz ', 'Bourbon', '3/4 oz ', 'Vodka', '3/4 oz ', 'Orange juice', '2-3 oz '], \"Sangria - The World's Best\": ['Red wine', '1 1/2 L ', 'Sugar', '1 cup ', 'Lemon', '1 large ', 'Orange', '1 large ', 'Apple', '1 large ', 'Brandy', '3-4 oz plain ', 'Soda water'], 'Abbey Martini': ['Gin', '2 shots ', 'Sweet Vermouth', '1 shot ', 'Orange Juice', '1 shot ', 'Angostura Bitters', '3 dashes '], 'Raspberry Cooler': ['Raspberry vodka', '2 oz ', 'Lemon-lime soda', '4 oz ', 'Ice'], 'French 75': ['Gin', '1 1/2 oz ', 'Sugar', '2 tsp superfine ', 'Lemon juice', '1 1/2 oz ', 'Champagne', '4 oz Chilled ', 'Orange', '1 ', 'Maraschino cherry', '1 ']}\n"
     ]
    },
    {
     "name": "stderr",
     "output_type": "stream",
     "text": [
      "/Users/Maggie/anaconda3/lib/python3.6/site-packages/ipykernel_launcher.py:12: UserWarning: DataFrame columns are not unique, some columns will be omitted.\n",
      "  if sys.path[0] == '':\n"
     ]
    }
   ],
   "source": [
    "#order the columns\n",
    "column_names = ['strDrink']\n",
    "for i in range(1,16):\n",
    "    column_names.append('strIngredient'+str(i))\n",
    "    column_names.append('strMeasure'+str(i))\n",
    "\n",
    "#rearrange drink columns\n",
    "drink_df = drink_df[column_names]\n",
    "\n",
    "#print(drink_df)\n",
    "\n",
    "dict = drink_df.set_index('strDrink').T.to_dict('list')\n",
    "final_dict = {}\n",
    "\n",
    "#print(dict)\n",
    "for k in dict.keys():\n",
    "    str_list = list(filter(None, dict[k])) # fastest\n",
    "    #str_list= [item for item in dict[k] if item != ' ']\n",
    "    str_list = [name for name in str_list if name.strip()]\n",
    "    #str_list = list(filter(lambda name: name.strip(), dict[k]))\n",
    "    final_dict[k] = str_list\n",
    "  \n",
    "    #dict[k] = str_list\n",
    "    \n",
    "print(final_dict)\n"
   ]
  },
  {
   "cell_type": "markdown",
   "metadata": {},
   "source": [
    "###  Save to an intermediary .csv file for cleaning"
   ]
  },
  {
   "cell_type": "code",
   "execution_count": 91,
   "metadata": {},
   "outputs": [],
   "source": [
    "df = pd.DataFrame.from_dict(final_dict, orient=\"index\")\n",
    "df.to_csv(\"cocktaildb_raw.csv\")"
   ]
  },
  {
   "cell_type": "code",
   "execution_count": null,
   "metadata": {},
   "outputs": [],
   "source": []
  }
 ],
 "metadata": {
  "kernelspec": {
   "display_name": "Python 3",
   "language": "python",
   "name": "python3"
  },
  "language_info": {
   "codemirror_mode": {
    "name": "ipython",
    "version": 3
   },
   "file_extension": ".py",
   "mimetype": "text/x-python",
   "name": "python",
   "nbconvert_exporter": "python",
   "pygments_lexer": "ipython3",
   "version": "3.6.4"
  }
 },
 "nbformat": 4,
 "nbformat_minor": 2
}
