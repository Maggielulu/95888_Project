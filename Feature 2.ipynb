{
 "cells": [
  {
   "cell_type": "markdown",
   "metadata": {},
   "source": [
    "# Feature 2: Data Cleaning"
   ]
  },
  {
   "cell_type": "code",
   "execution_count": 1,
   "metadata": {},
   "outputs": [],
   "source": [
    "import pandas as pd\n",
    "import re\n",
    "import csv\n",
    "from fractions import Fraction\n",
    "import builtins"
   ]
  },
  {
   "cell_type": "markdown",
   "metadata": {},
   "source": [
    "## Regular Expression"
   ]
  },
  {
   "cell_type": "code",
   "execution_count": 2,
   "metadata": {},
   "outputs": [],
   "source": [
    "def parseNumber(s):\n",
    "    return float(Fraction(re.sub(r'\\s+', '', s)))\n",
    "\n",
    "def cleanWebScraping(rawFileName,cleanFileName):\n",
    "    raw_csv = pd.read_csv(rawFileName, index_col=0)\n",
    "    inter_dict = raw_csv.to_dict(\"split\")\n",
    "    raw_dict = builtins.dict(zip(inter_dict[\"index\"], inter_dict[\"data\"]))\n",
    "    \n",
    "    ls = ([[\"drink_name\",\"ingredient\",\"measurement\",\"unit\"]])\n",
    "    for key in raw_dict:\n",
    "        vl = raw_dict.get(key)\n",
    "        whitelist = set('abcdefghijklmnopqrstuvwxy ABCDEFGHIJKLMNOPQRSTUVWXYZ')\n",
    "        key = ''.join(filter(whitelist.__contains__, key))\n",
    "        for v in vl:\n",
    "            if pd.isnull(v) == False:\n",
    "            #regular expression to deal with number/fractions + list of usual measurements\n",
    "                n = re.search(r'(\\d(?:[\\d\\./\\s/\\.]*\\d)?)\\s*(.*(?:(?:cup|tablespoon|can|ounce|teaspoon|pint|jigger|shot|liter|bottle|oz|oz.\\s)s?|(?:dash|glass|inch)(?:es)?)\\b|)\\s*(.*)', v)\n",
    "                if pd.isnull(n):\n",
    "                    ls.append([key,v,'N/A','N/A'])\n",
    "                else:\n",
    "                    quantity = parseNumber(n.group(1))\n",
    "                    units = n.group(2)\n",
    "                    u = re.search(r'\\(\\s*(\\d(?:[\\d./\\s]*\\d)?)\\s*([^)]*)\\)', units)\n",
    "                    if not pd.isnull(u):\n",
    "                        quantity *= parseNumber(u.group(1))\n",
    "                        units = u.group(2)\n",
    "                    ls.append([key,n.group(3),quantity,units])\n",
    "                \n",
    "            \n",
    "    #output the cleaned csv\n",
    "    with open(cleanFileName, \"w\") as f:\n",
    "        writer = csv.writer(f)\n",
    "        writer.writerows(ls)\n",
    "        \n",
    "        \n",
    "def cleanAPI(rawFileName,cleanFileName):\n",
    "    raw_csv = pd.read_csv(rawFileName, index_col=0)\n",
    "    inter_dict = raw_csv.to_dict(\"split\")\n",
    "    raw_dict = builtins.dict(zip(inter_dict[\"index\"], inter_dict[\"data\"]))\n",
    "    \n",
    "    ls = ([[\"drink_name\",\"ingredient\",\"measurement\",\"unit\"]])\n",
    "    for key in raw_dict:\n",
    "        vl = raw_dict.get(key)\n",
    "        #whitelist = set('abcdefghijklmnopqrstuvwxy ABCDEFGHIJKLMNOPQRSTUVWXYZ')\n",
    "        #key = ''.join(filter(whitelist.__contains__, key))\n",
    "        #for v in vl:\n",
    "        for i in range(0,len(vl)-1,2):\n",
    "            if pd.isnull(vl[i]) == False:\n",
    "            #regular expression to deal with number/fractions + list of usual measurements\n",
    "                n = re.search(r'(\\d(?:[\\d\\./\\s/\\.]*\\d)?)\\s*(.*(?:(?:cup|tablespoon|can|ounce|teaspoon|pint|jigger|shot|liter|bottle|oz|oz.\\s)s?|(?:dash|glass|inch)(?:es)?)\\b|)\\s*(.*)', str(vl[(i+1)]))\n",
    "                if pd.isnull(n):\n",
    "                    if type(vl[i+1]) is float and vl[i+1] is not None: \n",
    "                        ls.append([key,vl[i],vl[i+1],'N/A'])\n",
    "                    else:\n",
    "                        ls.append([key,vl[i],'N/A','N/A'])\n",
    "                else:\n",
    "                    quantity = parseNumber(n.group(1))\n",
    "                    units = n.group(2)\n",
    "                    u = re.search(r'\\(\\s*(\\d(?:[\\d./\\s]*\\d)?)\\s*([^)]*)\\)', units)\n",
    "                    if not pd.isnull(u):\n",
    "                        quantity *= parseNumber(u.group(1))\n",
    "                        units = u.group(2)\n",
    "                    ls.append([key,vl[i],quantity,units])\n",
    "                \n",
    "            \n",
    "    #output the cleaned csv\n",
    "    with open(cleanFileName, \"w\") as f:\n",
    "        writer = csv.writer(f)\n",
    "        writer.writerows(ls)"
   ]
  },
  {
   "cell_type": "code",
   "execution_count": 3,
   "metadata": {},
   "outputs": [],
   "source": [
    "cleanWebScraping(\"allrecipes_raw.csv\",\"allrecipes_clean.csv\")\n",
    "cleanWebScraping(\"epicurious_raw.csv\",\"epicurious_clean.csv\")\n",
    "cleanAPI(\"cocktaildb_raw.csv\",\"cocktaildb_clean.csv\")"
   ]
  },
  {
   "cell_type": "markdown",
   "metadata": {},
   "source": [
    "## Merge Files"
   ]
  },
  {
   "cell_type": "code",
   "execution_count": 4,
   "metadata": {},
   "outputs": [],
   "source": [
    "#add the cover sheet\n",
    "ls = ([[\"sheet_name\",\"data_source\",\"Description\"]])\n",
    "ls.append(['allrecipes_raw','allrecipes.com','Raw data from scraping the allrecipes.com website with categorized base liquors'])\n",
    "ls.append(['allrecipes_clean','','cleaned data from the sheet described above with drink name and each of the ingredient with measurement in every row'])\n",
    "ls.append(['epicurious_raw','epicurious.com','Raw data from scraping the epicurious.com website with categorized base liquors'])\n",
    "ls.append(['epicurious_clean','','cleaned data from the sheet described above with drink name and each of the ingredient with measurement in every row'])\n",
    "ls.append(['cocktaildb_raw','https://www.thecocktaildb.com/api/json/v1/1/random.php','a web API that generate one random drink at a time with 1'])\n",
    "ls.append(['cocktaildb_clean','','cleaned data from the sheet described above with drink name and each of the ingredient with measurement in every row'])\n",
    "ls.append(['merged','','merged data sheet combining allrecipes_clean, epicurious_clean and cocktaildb_clean'])\n",
    "ls.append(['merged_2','','merged data sheet combining allrecipes_raw, epicurious_raw  cocktaildb_raw'])\n",
    "with open(\"cover.csv\", \"w\") as f:\n",
    "    writer = csv.writer(f)\n",
    "    writer.writerows(ls)"
   ]
  },
  {
   "cell_type": "code",
   "execution_count": 5,
   "metadata": {},
   "outputs": [],
   "source": [
    "#add the merged sheet\n",
    "df1 = pd.read_csv('allrecipes_clean.csv')\n",
    "df2 = pd.read_csv('epicurious_clean.csv')\n",
    "df3 = pd.read_csv('cocktaildb_clean.csv')\n",
    "\n",
    "out = df1.append(df2)\n",
    "out = out.append(df3)\n",
    "out.to_csv('merged.csv', sep=',', encoding='utf-8')"
   ]
  },
  {
   "cell_type": "code",
   "execution_count": 9,
   "metadata": {},
   "outputs": [],
   "source": [
    "df4 = pd.read_csv('allrecipes_raw.csv')\n",
    "df5 = pd.read_csv('epicurious_raw.csv')\n",
    "df6 = pd.read_csv('cocktaildb_raw.csv')\n",
    "out2 = df4.append(df5)\n",
    "out2 = out2.append(df6)\n",
    "out2.to_csv('merged_2.csv', sep=',', encoding='utf-8')"
   ]
  },
  {
   "cell_type": "code",
   "execution_count": 10,
   "metadata": {},
   "outputs": [],
   "source": [
    "#write every sheet into the same Workbook\n",
    "writer = pd.ExcelWriter('Workbook.xlsx', engine='xlsxwriter')\n",
    "\n",
    "#read all csv files\n",
    "cover_df = pd.read_csv('cover.csv')\n",
    "allrecipes_raw_df = pd.read_csv('allrecipes_raw.csv')\n",
    "#allrecipes_clean_df = pd.read_csv('allrecipes_clean.csv')\n",
    "cocktaildb_raw_df = pd.read_csv('cocktaildb_raw.csv')\n",
    "#cocktaildb_clean_df = pd.read_csv('cocktaildb_clean.csv')\n",
    "epicurious_raw_df = pd.read_csv('epicurious_raw.csv')\n",
    "\n",
    "#merged_df = pd.read_csv('merged.csv')\n",
    "#write all csv files\n",
    "cover_df.to_excel(writer, sheet_name='cover')\n",
    "allrecipes_raw_df.to_excel(writer, sheet_name='allrecipes_raw')\n",
    "df1.to_excel(writer, sheet_name='allrecipes_clean')\n",
    "epicurious_raw_df.to_excel(writer, sheet_name='epicurious_raw')\n",
    "df2.to_excel(writer,sheet_name = 'epicurious_clean')\n",
    "cocktaildb_raw_df.to_excel(writer, sheet_name='cocktaildb_raw')\n",
    "df3.to_excel(writer, sheet_name='cocktaildb_clean')\n",
    "out.to_excel(writer,sheet_name='merged')\n",
    "out2.to_excel(writer,sheet_name='merged_2')\n",
    "writer.save()"
   ]
  },
  {
   "cell_type": "code",
   "execution_count": null,
   "metadata": {},
   "outputs": [],
   "source": []
  }
 ],
 "metadata": {
  "kernelspec": {
   "display_name": "Python 3",
   "language": "python",
   "name": "python3"
  },
  "language_info": {
   "codemirror_mode": {
    "name": "ipython",
    "version": 3
   },
   "file_extension": ".py",
   "mimetype": "text/x-python",
   "name": "python",
   "nbconvert_exporter": "python",
   "pygments_lexer": "ipython3",
   "version": "3.6.4"
  }
 },
 "nbformat": 4,
 "nbformat_minor": 2
}
